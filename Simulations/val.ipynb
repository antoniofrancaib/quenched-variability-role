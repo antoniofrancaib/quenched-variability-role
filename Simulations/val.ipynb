{
 "cells": [
  {
   "cell_type": "code",
   "execution_count": 1,
   "id": "6c25e048-2774-4743-ab19-2806b12cd690",
   "metadata": {},
   "outputs": [
    {
     "data": {
      "application/vnd.jupyter.widget-view+json": {
       "model_id": "d2dfc15222644f67b313ccc9b2aa84a5",
       "version_major": 2,
       "version_minor": 0
      },
      "text/plain": [
       "interactive(children=(FloatSlider(value=0.5, description='Amplitude Threshold:', layout=Layout(width='50%'), m…"
      ]
     },
     "metadata": {},
     "output_type": "display_data"
    },
    {
     "name": "stdout",
     "output_type": "stream",
     "text": [
      "r_0: 3.9348680723879\n"
     ]
    }
   ],
   "source": [
    "import pandas as pd\n",
    "import numpy as np\n",
    "import matplotlib.pyplot as plt\n",
    "from ipywidgets import interact, FloatSlider\n",
    "import ipywidgets as widgets\n",
    "\n",
    "# Read the CSV file\n",
    "df = pd.read_csv('../ring_simulation_results.csv')\n",
    "\n",
    "df = df[df['N'] == 128]\n",
    "\n",
    "def update_plot(amplitude_threshold):\n",
    "    # Group by A and relative_w1, then count bumps\n",
    "    bump_counts = df.groupby(['A', 'relative_w1']).agg({\n",
    "        'amplitude': lambda x: (x > amplitude_threshold).sum(),\n",
    "        'critical_w1': 'first'  \n",
    "    }).reset_index()\n",
    "    bump_counts.columns = ['A', 'relative_w1', 'bump_count', 'critical_w1']\n",
    "\n",
    "    # Calculate actual w1 values\n",
    "    bump_counts['w1'] = bump_counts['critical_w1'] + bump_counts['relative_w1']\n",
    "\n",
    "    # Create the scatter plot\n",
    "    plt.figure(figsize=(12, 8))\n",
    "\n",
    "    scatter = plt.scatter(bump_counts['A'], bump_counts['w1'], \n",
    "                          c=bump_counts['bump_count'], s=bump_counts['bump_count']*5,\n",
    "                          cmap='viridis', alpha=0.7)\n",
    "\n",
    "    plt.colorbar(scatter, label='Number of Bumps Formed')\n",
    "\n",
    "    # Plot the critical w1 line using values from the dataset\n",
    "    A_values = bump_counts['A'].unique()\n",
    "    critical_w1_values = bump_counts.groupby('A')['critical_w1'].first()\n",
    "    plt.plot(A_values, critical_w1_values, label='Critical $w_1$', color='red', linewidth=2)\n",
    "\n",
    "    plt.title(f'Number of Bumps Formed for Different A-w1 Pairs\\nAmplitude Threshold: {amplitude_threshold:.2f}')\n",
    "    plt.xlabel('A (Noise Amplitude)')\n",
    "    plt.ylabel('$w_1$')\n",
    "    plt.legend(loc='upper right')\n",
    "\n",
    "    plt.ylim(bump_counts['w1'].min() - 0.1, bump_counts['w1'].max() + 0.1)\n",
    "    plt.xlim(A_values.min() - 0.5, A_values.max() + 0.5)\n",
    "\n",
    "    plt.tight_layout()\n",
    "    plt.show()\n",
    "\n",
    "    # Print summary statistics\n",
    "    print(bump_counts.groupby('A')[['bump_count']].describe())\n",
    "\n",
    "    # Optional: Print a sample of the data\n",
    "    print(\"\\nSample of bump count data:\")\n",
    "    print(bump_counts.head(10))\n",
    "\n",
    "# Create an interactive widget\n",
    "interact(update_plot, \n",
    "         amplitude_threshold=FloatSlider(min=0, max=2, step=0.1, value=0.5, \n",
    "                                         description='Amplitude Threshold:',\n",
    "                                         style={'description_width': 'initial'},\n",
    "                                         layout=widgets.Layout(width='50%')))\n",
    "\n",
    "# Print r_0 value\n",
    "print(f\"r_0: {df['critical_w1'].iloc[0] + np.sqrt((2*np.pi/256)*(df['A'].iloc[0]))}\")\n"
   ]
  },
  {
   "cell_type": "code",
   "execution_count": 12,
   "id": "dfbe761a-9bb3-44bc-a42e-93d9c38bf256",
   "metadata": {},
   "outputs": [
    {
     "data": {
      "application/vnd.jupyter.widget-view+json": {
       "model_id": "a9627f8768414970a6d5e3d0ecab371b",
       "version_major": 2,
       "version_minor": 0
      },
      "text/plain": [
       "Label(value='A: 0.00')"
      ]
     },
     "metadata": {},
     "output_type": "display_data"
    },
    {
     "data": {
      "application/vnd.jupyter.widget-view+json": {
       "model_id": "903dfbb712d2453fb17211843e24b876",
       "version_major": 2,
       "version_minor": 0
      },
      "text/plain": [
       "Label(value='relative_w1: -0.20')"
      ]
     },
     "metadata": {},
     "output_type": "display_data"
    },
    {
     "data": {
      "application/vnd.jupyter.widget-view+json": {
       "model_id": "9dde1048913c4adc8df410d8b482b8d8",
       "version_major": 2,
       "version_minor": 0
      },
      "text/plain": [
       "interactive(children=(IntSlider(value=0, continuous_update=False, description='A index:', max=9), IntSlider(va…"
      ]
     },
     "metadata": {},
     "output_type": "display_data"
    }
   ],
   "source": [
    "import pandas as pd\n",
    "import numpy as np\n",
    "import matplotlib.pyplot as plt\n",
    "from ipywidgets import interact, interactive, fixed, interact_manual\n",
    "import ipywidgets as widgets\n",
    "from scipy import stats\n",
    "\n",
    "# Load the data\n",
    "df = pd.read_csv('../ring_simulation_results.csv')\n",
    "\n",
    "# Filter for N=128\n",
    "df = df[df['N'] == 128]\n",
    "\n",
    "# Create unique sorted lists of relative_w1 and A values\n",
    "relative_w1_values = sorted(df['relative_w1'].unique())\n",
    "A_values = sorted(df['A'].unique())\n",
    "\n",
    "def plot_distribution(A_index, relative_w1_index):\n",
    "    A = A_values[A_index]\n",
    "    relative_w1 = relative_w1_values[relative_w1_index]\n",
    "    \n",
    "    # Filter data for the selected A and relative_w1\n",
    "    filtered_df = df[(df['A'] == A) & (df['relative_w1'] == relative_w1)]\n",
    "    \n",
    "    if filtered_df.empty:\n",
    "        print(f\"No data available for A={A} and relative_w1={relative_w1}\")\n",
    "        return\n",
    "    \n",
    "    # Plot histogram and KDE\n",
    "    fig, ax = plt.subplots(figsize=(12, 6))\n",
    "    \n",
    "    # Histogram\n",
    "    ax.hist(filtered_df['amplitude'], bins=20, density=True, alpha=0.7, color='skyblue', edgecolor='black')\n",
    "    \n",
    "    # KDE\n",
    "    kde = stats.gaussian_kde(filtered_df['amplitude'])\n",
    "    x_range = np.linspace(filtered_df['amplitude'].min(), filtered_df['amplitude'].max(), 100)\n",
    "    ax.plot(x_range, kde(x_range), 'r-', linewidth=2, label='KDE')\n",
    "    \n",
    "    ax.set_title(f'Amplitude Distribution for A={A:.2f}, relative_w1={relative_w1:.2f}')\n",
    "    ax.set_xlabel('Amplitude')\n",
    "    ax.set_ylabel('Density')\n",
    "    \n",
    "    # Add vertical line for mean\n",
    "    mean_amplitude = filtered_df['amplitude'].mean()\n",
    "    ax.axvline(mean_amplitude, color='g', linestyle='dashed', linewidth=2, label=f'Mean: {mean_amplitude:.4f}')\n",
    "    \n",
    "    ax.legend()\n",
    "    plt.tight_layout()\n",
    "    plt.show()\n",
    "    \n",
    "    # Print some statistics\n",
    "    print(f\"Number of data points: {len(filtered_df)}\")\n",
    "    print(f\"Mean amplitude: {mean_amplitude:.6f}\")\n",
    "    print(f\"Standard deviation: {filtered_df['amplitude'].std():.6f}\")\n",
    "    print(f\"Critical w1: {filtered_df['critical_w1'].iloc[0]:.6f}\")\n",
    "    print(f\"Actual w1: {filtered_df['w1'].iloc[0]:.6f}\")\n",
    "\n",
    "# Create interactive widgets\n",
    "A_slider = widgets.IntSlider(\n",
    "    value=0,\n",
    "    min=0,\n",
    "    max=len(A_values) - 1,\n",
    "    step=1,\n",
    "    description='A index:',\n",
    "    continuous_update=False,\n",
    "    orientation='horizontal'\n",
    ")\n",
    "\n",
    "relative_w1_slider = widgets.IntSlider(\n",
    "    value=0,\n",
    "    min=0,\n",
    "    max=len(relative_w1_values) - 1,\n",
    "    step=1,\n",
    "    description='relative_w1 index:',\n",
    "    continuous_update=False,\n",
    "    orientation='horizontal'\n",
    ")\n",
    "\n",
    "# Create labels to show actual values\n",
    "A_label = widgets.Label()\n",
    "relative_w1_label = widgets.Label()\n",
    "\n",
    "def update_labels(A_index, relative_w1_index):\n",
    "    A_label.value = f\"A: {A_values[A_index]:.2f}\"\n",
    "    relative_w1_label.value = f\"relative_w1: {relative_w1_values[relative_w1_index]:.2f}\"\n",
    "\n",
    "# Use interactive to update labels when sliders change\n",
    "interactive(update_labels, A_index=A_slider, relative_w1_index=relative_w1_slider)\n",
    "\n",
    "# Display widgets\n",
    "display(A_label, relative_w1_label)\n",
    "\n",
    "# Create the main interactive plot\n",
    "interact(plot_distribution, A_index=A_slider, relative_w1_index=relative_w1_slider);"
   ]
  },
  {
   "cell_type": "code",
   "execution_count": null,
   "id": "86ba9698-a1f2-4941-af39-2b844363a342",
   "metadata": {},
   "outputs": [],
   "source": []
  }
 ],
 "metadata": {
  "kernelspec": {
   "display_name": "Python 3 (ipykernel)",
   "language": "python",
   "name": "python3"
  },
  "language_info": {
   "codemirror_mode": {
    "name": "ipython",
    "version": 3
   },
   "file_extension": ".py",
   "mimetype": "text/x-python",
   "name": "python",
   "nbconvert_exporter": "python",
   "pygments_lexer": "ipython3",
   "version": "3.11.6"
  }
 },
 "nbformat": 4,
 "nbformat_minor": 5
}
