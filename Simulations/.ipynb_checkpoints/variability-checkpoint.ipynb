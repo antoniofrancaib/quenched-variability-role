{
 "cells": [
  {
   "cell_type": "markdown",
   "id": "fdae29c2-de4b-4dd5-93b8-96c8bdc28b7d",
   "metadata": {},
   "source": [
    "see: https://www.overleaf.com/read/knktnhbycdzg#210acd"
   ]
  },
  {
   "cell_type": "code",
   "execution_count": 1,
   "id": "74883605-e234-4430-8017-ff77495127b9",
   "metadata": {},
   "outputs": [
    {
     "data": {
      "application/vnd.jupyter.widget-view+json": {
       "model_id": "7a9e6676423246719beae014d2d6cceb",
       "version_major": 2,
       "version_minor": 0
      },
      "text/plain": [
       "interactive(children=(FloatSlider(value=0.5, description='A', max=5.0, min=-5.0, step=1.0), FloatSlider(value=…"
      ]
     },
     "metadata": {},
     "output_type": "display_data"
    },
    {
     "data": {
      "text/plain": [
       "<function __main__.plot_V_eta_and_delta_W(A, B, C, w0, w1)>"
      ]
     },
     "execution_count": 1,
     "metadata": {},
     "output_type": "execute_result"
    }
   ],
   "source": [
    "import numpy as np\n",
    "import matplotlib.pyplot as plt\n",
    "from ipywidgets import interact, FloatSlider\n",
    "\n",
    "L = np.pi\n",
    "N = 256\n",
    "\n",
    "theta = np.linspace(-np.pi, np.pi, N)\n",
    "\n",
    "def plot_V_eta_and_delta_W(A, B, C, w0, w1):\n",
    "    V = lambda theta: A + B * np.cos(theta) + C * np.cos(theta)**2\n",
    "    \n",
    "    V_non_negative = np.abs(V(theta)) #np.maximum(V(theta), 0)\n",
    "    delta_W = lambda theta: np.sqrt(V_non_negative) * np.random.randn(len(theta))\n",
    "\n",
    "    W = lambda delta_theta: w0 + w1 * np.cos(delta_theta) + delta_W(delta_theta)\n",
    "\n",
    "    fig, axs = plt.subplots(1, 3, figsize=(24, 6)) \n",
    "\n",
    "    axs[0].plot(theta, V(theta), 'r-', markersize=2)\n",
    "    axs[0].axhline(0, color='gray', linestyle='--')\n",
    "    axs[0].set_xlabel('Theta')\n",
    "    axs[0].set_ylabel('V(theta)')\n",
    "    axs[0].set_title('V(theta)')\n",
    "    axs[0].grid(True)\n",
    "    axs[0].legend(['V'])\n",
    "\n",
    "    delta_W_values = delta_W(theta)\n",
    "    axs[1].plot(theta, delta_W_values, 'b-', markersize=2)\n",
    "    axs[1].set_xlabel('Theta')\n",
    "    axs[1].set_ylabel('delta_W(theta)')\n",
    "    axs[1].set_title('delta_W(theta)')\n",
    "    axs[1].grid(True)\n",
    "    axs[1].legend(['delta_W'])\n",
    "\n",
    "    W_values = W(theta)\n",
    "    axs[2].plot(theta, W_values, 'g-', markersize=2)\n",
    "    axs[2].set_xlabel('Theta')\n",
    "    axs[2].set_ylabel('W(theta)')\n",
    "    axs[2].set_title('W(theta)')\n",
    "    axs[2].grid(True)\n",
    "    axs[2].legend(['W'])\n",
    "\n",
    "    plt.show()\n",
    "\n",
    "A_slider = FloatSlider(min=-5, max=5, step=1, value=0.5, description='A')\n",
    "B_slider = FloatSlider(min=-5, max=5, step=1, value=0, description='B')\n",
    "C_slider = FloatSlider(min=-5, max=5, step=1, value=0, description='C')\n",
    "w0_slider = FloatSlider(min=-30, max=30, step=1, value=-10, description='w0')\n",
    "w1_slider = FloatSlider(min=-30, max=30, step=1, value=10, description='w1')\n",
    "\n",
    "interact(plot_V_eta_and_delta_W, A=A_slider, B=B_slider, C=C_slider, w0=w0_slider, w1=w1_slider)\n"
   ]
  },
  {
   "cell_type": "code",
   "execution_count": 2,
   "id": "ee67d1f9-eb7c-4719-9850-4f27d244f68e",
   "metadata": {},
   "outputs": [
    {
     "data": {
      "application/vnd.jupyter.widget-view+json": {
       "model_id": "c6a40bcc34e641b091c01e3b7b470261",
       "version_major": 2,
       "version_minor": 0
      },
      "text/plain": [
       "interactive(children=(IntSlider(value=0, description='J: Number of Modes', max=128), FloatSlider(value=1.0, de…"
      ]
     },
     "metadata": {},
     "output_type": "display_data"
    }
   ],
   "source": [
    "import numpy as np\n",
    "import matplotlib.pyplot as plt\n",
    "from ipywidgets import interactive, IntSlider, FloatSlider\n",
    "import ipywidgets as widgets\n",
    "\n",
    "def V(theta, A, B, C):\n",
    "    return A + B * np.cos(theta) + C * np.cos(theta)**2\n",
    "\n",
    "def generate_noise(N):\n",
    "    return np.random.randn(N)\n",
    "\n",
    "def delta_W(theta, A, B, C, noise):\n",
    "    return np.sqrt(V(theta, A, B, C)) * noise\n",
    "\n",
    "def fourier_coefficients(j, theta_values, delta_W_values):\n",
    "    cos_terms = np.cos(j * theta_values)\n",
    "    sin_terms = np.sin(j * theta_values)\n",
    "    alpha_j = np.trapz(delta_W_values * cos_terms, theta_values) / (2 * np.pi)\n",
    "    beta_j = np.trapz(delta_W_values * sin_terms, theta_values) / (2 * np.pi)\n",
    "    return alpha_j, beta_j\n",
    "\n",
    "def fourier_series(theta_values, J, delta_W_values):\n",
    "    fourier_reconstruction = np.zeros_like(theta_values)\n",
    "    contributions = np.zeros_like(theta_values)\n",
    "    amplitude = 0  \n",
    "    phase = 0      \n",
    "    for j in range(1, J+1):\n",
    "        alpha_j, beta_j = fourier_coefficients(j, theta_values, delta_W_values)\n",
    "        contribution = alpha_j * np.cos(j * theta_values) + beta_j * np.sin(j * theta_values)\n",
    "        fourier_reconstruction += contribution\n",
    "        if j == J:\n",
    "            contributions = contribution\n",
    "            amplitude = np.sqrt(alpha_j**2 + beta_j**2)\n",
    "            phase = np.arctan2(beta_j, alpha_j)\n",
    "    return fourier_reconstruction, contributions, amplitude, phase\n",
    "\n",
    "default_N = 64\n",
    "noise = generate_noise(default_N)\n",
    "\n",
    "def interactive_plot(J, A, B, C, N, w0, w1):\n",
    "    theta_values = np.linspace(-np.pi, np.pi, N)\n",
    "    global noise\n",
    "    if len(noise) != N:\n",
    "        noise = generate_noise(N)\n",
    "    \n",
    "    delta_W_values = delta_W(theta_values, A, B, C, noise)\n",
    "    reconstructed_signal, last_mode_contribution, amplitude, phase = fourier_series(theta_values, J, delta_W_values)\n",
    "\n",
    "    R_mean = np.sqrt(2 * np.pi / N * (A + C / 2)) # * sqrt(S / kappa)\n",
    "    print(f\"⟨R⟩ = {R_mean:.3f}\")\n",
    "    \n",
    "    fig, (ax1, ax2, ax3) = plt.subplots(1, 3, figsize=(24, 6))\n",
    "    \n",
    "    ax1.plot(theta_values, delta_W_values, label='Original $\\Delta W$', alpha=0.5)\n",
    "    ax1.plot(theta_values, reconstructed_signal, label=f'Fourier Series up to {J} modes', linestyle='--')\n",
    "    ax1.set_title(\"Fourier Series Approximation of $\\Delta W$\")\n",
    "    ax1.set_xlabel(\"$\\\\theta$\")\n",
    "    ax1.set_ylabel(\"$\\Delta W$\")\n",
    "    ax1.legend()\n",
    "    \n",
    "    ax2.plot(theta_values, last_mode_contribution, color='red',\n",
    "             label=f'Contribution of Mode {J}\\nAmplitude: {amplitude:.3f}\\nPhase: {phase:.3f} rad')\n",
    "    ax2.set_title(f\"Contribution of Mode {J}\")\n",
    "    ax2.set_xlabel(\"$\\\\theta$\")\n",
    "    ax2.set_ylabel(\"Contribution to $\\Delta W$\")\n",
    "    ax2.legend()\n",
    "\n",
    "    kernel = w0 + w1 * np.cos(theta_values) + reconstructed_signal\n",
    "    ax3.plot(theta_values, kernel, color='blue', label='Kernel $W(\\\\delta \\\\theta)$')\n",
    "    ax3.set_title(f\"Kernel with Fourier Series truncated at {J}\")\n",
    "    ax3.set_xlabel(\"$\\\\delta \\\\theta$\")\n",
    "    ax3.set_ylabel(\"$W(\\\\delta \\\\theta)$\")\n",
    "    ax3.legend()\n",
    "\n",
    "interactive_plot = interactive(\n",
    "    interactive_plot,\n",
    "    J=IntSlider(min=0, max=128, step=1, value=0, description='J: Number of Modes'),\n",
    "    A=FloatSlider(min=0, max=9, step=1, value=1, description='A'),\n",
    "    B=FloatSlider(min=0, max=9, step=1, value=0, description='B'),\n",
    "    C=FloatSlider(min=0, max=9, step=1, value=0, description='C'),\n",
    "    N=IntSlider(min=16, max=128, step=16, value=default_N, description='N: Number of Points'),\n",
    "    w0=FloatSlider(min=-20, max=10, step=1, value=-10, description='w0'),\n",
    "    w1=FloatSlider(min=-20, max=20, step=1, value=10, description='w1')\n",
    ")\n",
    "display(interactive_plot)\n"
   ]
  },
  {
   "cell_type": "code",
   "execution_count": 3,
   "id": "0547624f-ab46-4b83-b309-838ab56f7947",
   "metadata": {},
   "outputs": [
    {
     "name": "stdout",
     "output_type": "stream",
     "text": [
      "Critical W_1: 3.9205\n",
      "Previous Critical W_1 at Delta: 0.0143\n",
      "Solution r0=0.0646\n"
     ]
    },
    {
     "data": {
      "application/vnd.jupyter.widget-view+json": {
       "model_id": "71a9c0b8ed3347158857609121748487",
       "version_major": 2,
       "version_minor": 0
      },
      "text/plain": [
       "interactive(children=(FloatSlider(value=0.005, description='Epsilon:', max=0.1, readout_format='.3f', step=0.0…"
      ]
     },
     "metadata": {},
     "output_type": "display_data"
    },
    {
     "data": {
      "text/plain": [
       "<function __main__.update_plots(epsilon, delta)>"
      ]
     },
     "execution_count": 3,
     "metadata": {},
     "output_type": "execute_result"
    }
   ],
   "source": [
    "from common_utils import Ring, derivative_nonlinearity, r_02\n",
    "import numpy as np\n",
    "import matplotlib.pyplot as plt\n",
    "from ipywidgets import interact, FloatSlider\n",
    "\n",
    "np.random.seed(42)\n",
    "\n",
    "L = np.pi\n",
    "N = 255\n",
    "T = {'t_span': (0, 10000), 't_steps': 10000}\n",
    "\n",
    "w0 = -10\n",
    "I_0 = 0.9\n",
    "\n",
    "A = 0.05\n",
    "B = 0.0 \n",
    "C = 0.0\n",
    "\n",
    "M = 60  \n",
    "s = 0.1  \n",
    "kappa = s*M\n",
    "\n",
    "R = np.sqrt((2*np.pi/N)*(A+(C/2))) * (np.sqrt(s*M)/kappa)\n",
    "\n",
    "r_0 = r_02(w0, I_0)\n",
    "critical_w1 = 2 / derivative_nonlinearity(w0 * r_0 + I_0) -  R\n",
    "print(f'Critical W_1: {critical_w1:.4f}')\n",
    "print(f'Previous Critical W_1 at Delta: {R:.4f}')\n",
    "\n",
    "print(f'Solution r0={r_0:.4f}')\n",
    "\n",
    "def update_plots(epsilon, delta):\n",
    "    theta = np.linspace(-np.pi, np.pi, N)\n",
    "    w1 = critical_w1 + delta\n",
    "    perturbation = lambda theta: r_0 + epsilon * np.cos(theta)\n",
    "\n",
    "    V = lambda theta: A + B * np.cos(theta) + C * np.cos(theta)**2\n",
    "    \n",
    "    delta_W = lambda theta: np.sqrt(V(theta)) * np.random.randn()\n",
    "    \n",
    "    W = lambda delta_theta: w0 + w1 * np.cos(delta_theta) + delta_W(delta_theta)\n",
    "\n",
    "    ring = Ring(L, T, N, W, I_0, perturbation)\n",
    "\n",
    "    fig, axs = plt.subplots(1, 3, figsize=(24, 6))  \n",
    "\n",
    "    ring.plot_timetrace(ax=axs[0], phase=0)\n",
    "    ring.plot_state(ax=axs[1], timestep=-1)\n",
    "    ring.plot_dynamics(ax=axs[2])\n",
    "    \n",
    "    plt.tight_layout()\n",
    "    plt.show()\n",
    "\n",
    "epsilon_slider = FloatSlider(value=0.005, min=0.0, max=0.1, step=0.005, description='Epsilon:', readout_format='.3f')\n",
    "delta_slider = FloatSlider(value=0.0, min=-0.5, max=0.5, step=0.05, description='Delta:', readout_format='.2f')\n",
    "\n",
    "interact(update_plots, epsilon=epsilon_slider, delta=delta_slider)"
   ]
  },
  {
   "cell_type": "code",
   "execution_count": null,
   "id": "ae5dc20e-af34-45d5-99ed-627ab9da8de2",
   "metadata": {},
   "outputs": [],
   "source": []
  }
 ],
 "metadata": {
  "kernelspec": {
   "display_name": "Python 3 (ipykernel)",
   "language": "python",
   "name": "python3"
  },
  "language_info": {
   "codemirror_mode": {
    "name": "ipython",
    "version": 3
   },
   "file_extension": ".py",
   "mimetype": "text/x-python",
   "name": "python",
   "nbconvert_exporter": "python",
   "pygments_lexer": "ipython3",
   "version": "3.11.6"
  }
 },
 "nbformat": 4,
 "nbformat_minor": 5
}
