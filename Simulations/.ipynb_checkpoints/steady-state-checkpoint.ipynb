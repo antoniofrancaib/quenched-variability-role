{
 "cells": [
  {
   "cell_type": "markdown",
   "id": "4b64e0c6-dd9e-4ad0-9ec9-350b943c4b5f",
   "metadata": {},
   "source": [
    "## Steady-State Solutions\n",
    "\n",
    "The stationary solutions for the steady-state firing rate $r_0$ are determined by the equation:\n",
    "$$ r_0 = \\phi(r_0 W_0 + I_0), $$\n",
    "\n",
    "Depending on the value of the input $I_0$ and the coupling $W_0$, the solutions are:\n",
    "\n",
    "#### For $0 \\leq r_0 W_0 + I_0 \\leq 1$:\n",
    "- **r_01 (in the code)**: \n",
    "$$\n",
    "r_0 = \\frac{1 - 2W_0 I_0 + \\sqrt{1 - 4W_0 I_0}}{2 W_0^2}\n",
    "$$\n",
    "\n",
    "- **r_02 (in the code)**: \n",
    "$$\n",
    "r_0 = \\frac{1 - 2W_0 I_0 - \\sqrt{1 - 4W_0 I_0}}{2 W_0^2}\n",
    "$$\n",
    "\n",
    "#### For $r_0 W_0 + I_0 > 1$:\n",
    "- **r_03 (in the code)**: \n",
    "$$\n",
    "r_0 = 2 W_0 + 2 \\sqrt{W_0^2 + I_0 - \\frac{3}{4}}\n",
    "$$\n",
    "\n",
    "- **r_04 (in the code)**: \n",
    "$$\n",
    "r_0 = 2 W_0 - 2 \\sqrt{W_0^2 + I_0 - \\frac{3}{4}}\n",
    "$$"
   ]
  },
  {
   "cell_type": "markdown",
   "id": "bc61fb1f-81ab-456b-92e2-0d73d9c4db7d",
   "metadata": {},
   "source": [
    "USER WARNING: you need to be able run this cell to be able to import the common_utils.py"
   ]
  },
  {
   "cell_type": "code",
   "execution_count": 2,
   "id": "5f12b7f5-d02c-4b3f-aabc-146ea0e59e50",
   "metadata": {},
   "outputs": [],
   "source": [
    "import sys\n",
    "sys.path.insert(0, '..')"
   ]
  },
  {
   "cell_type": "markdown",
   "id": "86be071f-3a47-4257-b7ca-ffbb057732d9",
   "metadata": {},
   "source": [
    "This code visualizes the fixed point solutions for the system described by the nonlinear equation $r_0 = \\phi(w_0 r_0 + I_0)$:"
   ]
  },
  {
   "cell_type": "code",
   "execution_count": 4,
   "id": "3710b4ae-24df-4311-a99d-e6ba6b913f03",
   "metadata": {},
   "outputs": [
    {
     "data": {
      "application/vnd.jupyter.widget-view+json": {
       "model_id": "d8887b4abc524d118cf75189705589d9",
       "version_major": 2,
       "version_minor": 0
      },
      "text/plain": [
       "interactive(children=(FloatSlider(value=-1.0, continuous_update=False, description='$w_0$:', max=3.5, min=-20.…"
      ]
     },
     "execution_count": 4,
     "metadata": {},
     "output_type": "execute_result"
    }
   ],
   "source": [
    "%matplotlib widget\n",
    "import numpy as np\n",
    "import matplotlib.pyplot as plt\n",
    "import ipywidgets as widgets\n",
    "from common_utils import nonlinearity, r_01, r_02, r_03, r_04  \n",
    "\n",
    "def update_plots(w0, I0):\n",
    "    plt.clf()  \n",
    "\n",
    "    response_functions = [\n",
    "        (r_01, 'red', '01'),\n",
    "        (r_02, 'orange', '02'),\n",
    "        (r_03, 'purple', '03'),\n",
    "        (r_04, 'green', '04')  \n",
    "    ]\n",
    "\n",
    "    r0_values = np.linspace(-2.5, 15, 1000)\n",
    "    phi_values = nonlinearity(w0 * r0_values + I0)\n",
    "    plt.fill_between(r0_values, -2.5, 15, where=(w0 * r0_values + I0 >= 0) & (w0 * r0_values + I0 <= 1), color='lightblue', alpha=0.3, label='$0 \\leq (w_0 \\cdot r_0 + I_0) \\leq 1$')\n",
    "    plt.fill_between(r0_values, -2.5, 15, where=w0 * r0_values + I0 > 1, color='lightgray', alpha=0.3, label='$(w_0 \\cdot r_0 + I_0) > 1$')\n",
    "    plt.plot(r0_values, phi_values, label='$\\phi(w_0 \\cdot r_0 + I_0)$', color='blue')\n",
    "    plt.plot(r0_values, r0_values, label='$r_0$', linestyle='--', color='red')\n",
    "\n",
    "    tolerance = 1e-6\n",
    "    for func, color, label in response_functions:\n",
    "        r_val = func(w0, I0) \n",
    "        if np.isclose(r_val, nonlinearity(w0 * r_val + I0), atol=tolerance):\n",
    "            plt.scatter([r_val], [nonlinearity(w0 * r_val + I0)], color=color, label=f'$r_{{{label}}}$: {r_val:.2f}', zorder=5)\n",
    "\n",
    "    plt.gca().set_facecolor('white')\n",
    "    plt.gcf().set_facecolor('white')\n",
    "    plt.xlabel('$r_0$', color='black')\n",
    "    plt.ylabel('Value', color='black')\n",
    "    plt.tick_params(axis='x', colors='black')\n",
    "    plt.tick_params(axis='y', colors='black')\n",
    "    plt.legend()\n",
    "    plt.grid(color='gray')\n",
    "    \n",
    "    plt.show()\n",
    "\n",
    "w0_slider = widgets.FloatSlider(value=-1, min=-20, max=3.5, step=0.1, description='$w_0$:', continuous_update=False)\n",
    "I0_slider = widgets.FloatSlider(value=0.5, min=0, max=2, step=0.05, description='$I_0$:', continuous_update=False)\n",
    "\n",
    "widgets.interactive(update_plots, w0=w0_slider, I0=I0_slider)"
   ]
  },
  {
   "cell_type": "code",
   "execution_count": 7,
   "id": "18ffc58b-c8ae-4047-a8ea-ed87df4cf2cc",
   "metadata": {},
   "outputs": [
    {
     "data": {
      "application/vnd.jupyter.widget-view+json": {
       "model_id": "307d3128a7e5465caeccb6973054a94e",
       "version_major": 2,
       "version_minor": 0
      },
      "text/plain": [
       "interactive(children=(FloatSlider(value=0.125, continuous_update=False, description='$I_0$:', max=1.5, step=0.…"
      ]
     },
     "execution_count": 7,
     "metadata": {},
     "output_type": "execute_result"
    }
   ],
   "source": [
    "%matplotlib widget\n",
    "import numpy as np\n",
    "import matplotlib.pyplot as plt\n",
    "import ipywidgets as widgets\n",
    "from common_utils import dr_dt, r_01, r_02, r_03, r_04, apply_mask, select_and_solve, derivative_nonlinearity\n",
    "\n",
    "def update_plots(I0):\n",
    "    N = 10000\n",
    "    w0_values = np.linspace(-3, 5, N)\n",
    "    plt.clf()\n",
    "\n",
    "    np.seterr(divide='ignore', invalid='ignore')\n",
    "\n",
    "    for func in [r_01, r_02, r_03, r_04]:  \n",
    "        w0_filtered, r_filtered = apply_mask(w0_values, I0, func, tolerance=1e-8)\n",
    "        \n",
    "        stable = w0_filtered < 1 / derivative_nonlinearity(w0_filtered * r_filtered + I0)\n",
    "\n",
    "        plt.plot(w0_filtered[stable], r_filtered[stable], 'black', linestyle='-', label='Stable' if 'Stable' not in plt.gca().get_legend_handles_labels()[1] else '')\n",
    "        plt.plot(w0_filtered[~stable], r_filtered[~stable], 'red', label='Unstable' if 'Unstable' not in plt.gca().get_legend_handles_labels()[1] else '')\n",
    "\n",
    "        w0_selected, r_num = select_and_solve(w0_filtered, r_filtered, I0, func)\n",
    "        if len(w0_selected) > 0 and (func == r_02 or func == r_03):\n",
    "            plt.plot(w0_selected, r_num, 'o', alpha=0.75, markersize=5)\n",
    "\n",
    "\n",
    "    plt.xlabel('$w_0$')\n",
    "    plt.ylabel('$r_0$')\n",
    "    plt.title(f'Bifurcation Diagram at $I_0 = {I0:.2f}$')\n",
    "    plt.legend()\n",
    "    plt.grid(True)\n",
    "    plt.show()\n",
    "    \n",
    "slider = widgets.FloatSlider(value=1/8, min=0, max=1.5, step=0.05, description='$I_0$:', continuous_update=False)\n",
    "widgets.interactive(update_plots, I0=slider)"
   ]
  },
  {
   "cell_type": "code",
   "execution_count": null,
   "id": "8a5014e1-7f9a-4c82-9f93-c81e016a83de",
   "metadata": {},
   "outputs": [],
   "source": []
  }
 ],
 "metadata": {
  "kernelspec": {
   "display_name": "Python 3 (ipykernel)",
   "language": "python",
   "name": "python3"
  },
  "language_info": {
   "codemirror_mode": {
    "name": "ipython",
    "version": 3
   },
   "file_extension": ".py",
   "mimetype": "text/x-python",
   "name": "python",
   "nbconvert_exporter": "python",
   "pygments_lexer": "ipython3",
   "version": "3.11.6"
  }
 },
 "nbformat": 4,
 "nbformat_minor": 5
}
