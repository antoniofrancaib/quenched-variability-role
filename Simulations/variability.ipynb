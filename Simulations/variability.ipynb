{
 "cells": [
  {
   "cell_type": "markdown",
   "id": "fdae29c2-de4b-4dd5-93b8-96c8bdc28b7d",
   "metadata": {},
   "source": [
    "see: https://www.overleaf.com/read/knktnhbycdzg#210acd"
   ]
  },
  {
   "cell_type": "code",
   "execution_count": 1,
   "id": "0786dba7-872e-4d8c-9764-94220108de83",
   "metadata": {},
   "outputs": [],
   "source": [
    "import sys\n",
    "sys.path.insert(0, '..')"
   ]
  },
  {
   "cell_type": "code",
   "execution_count": 1,
   "id": "74883605-e234-4430-8017-ff77495127b9",
   "metadata": {},
   "outputs": [
    {
     "data": {
      "application/vnd.jupyter.widget-view+json": {
       "model_id": "1adebf70bd014f2bbe71d9e14eeca7b2",
       "version_major": 2,
       "version_minor": 0
      },
      "text/plain": [
       "interactive(children=(FloatSlider(value=0.5, description='A', max=5.0, min=-5.0, step=1.0), FloatSlider(value=…"
      ]
     },
     "metadata": {},
     "output_type": "display_data"
    },
    {
     "data": {
      "text/plain": [
       "<function __main__.plot(A, B, C, w0, w1)>"
      ]
     },
     "execution_count": 1,
     "metadata": {},
     "output_type": "execute_result"
    }
   ],
   "source": [
    "import numpy as np\n",
    "import matplotlib.pyplot as plt\n",
    "from ipywidgets import interact, FloatSlider\n",
    "\n",
    "L = np.pi\n",
    "N = 256\n",
    "\n",
    "theta = np.linspace(-np.pi, np.pi, N)\n",
    "\n",
    "def plot(A, B, C, w0, w1):\n",
    "    V = lambda theta: A + B * np.cos(theta) + C * np.cos(theta)**2\n",
    "    \n",
    "    V_non_negative = np.abs(V(theta)) #np.maximum(V(theta), 0)\n",
    "    delta_W = lambda theta: np.sqrt(V_non_negative) * np.random.randn(len(theta))\n",
    "\n",
    "    W = lambda delta_theta: w0 + w1 * np.cos(delta_theta) + delta_W(delta_theta)\n",
    "\n",
    "    fig, axs = plt.subplots(1, 3, figsize=(24, 6)) \n",
    "\n",
    "    axs[0].plot(theta, V(theta), 'r-', markersize=2)\n",
    "    axs[0].axhline(0, color='gray', linestyle='--')\n",
    "    axs[0].set_xlabel('Theta')\n",
    "    axs[0].set_ylabel('V(theta)')\n",
    "    axs[0].set_title('V(theta)')\n",
    "    axs[0].grid(True)\n",
    "    axs[0].legend(['V'])\n",
    "\n",
    "    axs[1].plot(theta, delta_W(theta), 'b-', markersize=2)\n",
    "    axs[1].set_xlabel('Theta')\n",
    "    axs[1].set_ylabel('delta_W(theta)')\n",
    "    axs[1].set_title('delta_W(theta)')\n",
    "    axs[1].grid(True)\n",
    "    axs[1].legend(['delta_W'])\n",
    "\n",
    "    axs[2].plot(theta, W(theta), 'g-', markersize=2)\n",
    "    axs[2].set_xlabel('Theta')\n",
    "    axs[2].set_ylabel('W(theta)')\n",
    "    axs[2].set_title('W(theta)')\n",
    "    axs[2].grid(True)\n",
    "    axs[2].legend(['W'])\n",
    "\n",
    "    plt.show()\n",
    "\n",
    "A_slider = FloatSlider(min=-5, max=5, step=1, value=0.5, description='A')\n",
    "B_slider = FloatSlider(min=-5, max=5, step=1, value=0, description='B')\n",
    "C_slider = FloatSlider(min=-5, max=5, step=1, value=0, description='C')\n",
    "w0_slider = FloatSlider(min=-30, max=30, step=1, value=-10, description='w0')\n",
    "w1_slider = FloatSlider(min=-30, max=30, step=1, value=10, description='w1')\n",
    "\n",
    "interact(plot, A=A_slider, B=B_slider, C=C_slider, w0=w0_slider, w1=w1_slider)\n"
   ]
  },
  {
   "cell_type": "code",
   "execution_count": 11,
   "id": "ee67d1f9-eb7c-4719-9850-4f27d244f68e",
   "metadata": {},
   "outputs": [
    {
     "data": {
      "application/vnd.jupyter.widget-view+json": {
       "model_id": "9305873a63e44792be1263c79a2dbf91",
       "version_major": 2,
       "version_minor": 0
      },
      "text/plain": [
       "interactive(children=(IntSlider(value=0, description='J: Number of Modes', max=128), FloatSlider(value=1.0, de…"
      ]
     },
     "metadata": {},
     "output_type": "display_data"
    }
   ],
   "source": [
    "import numpy as np\n",
    "import matplotlib.pyplot as plt\n",
    "from ipywidgets import interactive, IntSlider, FloatSlider\n",
    "import ipywidgets as widgets\n",
    "\n",
    "default_N = 64\n",
    "noise = np.random.randn(default_N)\n",
    "previous_N = default_N  # Track the last value of N\n",
    "\n",
    "V = lambda theta, A, B, C: A + B * np.cos(theta) + C * np.cos(theta)**2\n",
    "delta_W = lambda theta, A, B, C, noise: np.sqrt(V(theta, A, B, C)) * noise\n",
    "\n",
    "def fourier_series(theta_values, J, delta_W_values):\n",
    "    fourier_reconstruction = np.zeros_like(theta_values)\n",
    "    contributions = np.zeros_like(theta_values)\n",
    "    amplitude = 0  \n",
    "    phase = 0      \n",
    "    for j in range(1, J+1):\n",
    "        alpha_j, beta_j = fourier_coefficients(j, theta_values, delta_W_values)\n",
    "        contribution = alpha_j * np.cos(j * theta_values) + beta_j * np.sin(j * theta_values)\n",
    "        fourier_reconstruction += contribution\n",
    "        if j == J:\n",
    "            contributions = contribution\n",
    "            amplitude = np.sqrt(alpha_j**2 + beta_j**2)\n",
    "            phase = np.arctan2(beta_j, alpha_j)\n",
    "    return fourier_reconstruction, contributions, amplitude, phase\n",
    "\n",
    "def interactive_plot(J, A, B, C, N, w0, w1):\n",
    "    global noise, previous_N\n",
    "    theta_values = np.linspace(-np.pi, np.pi, N)\n",
    "    \n",
    "    if N != previous_N:  # Check if N has changed\n",
    "        noise = np.random.randn(N)\n",
    "        previous_N = N  # Update the previous_N to current N\n",
    "\n",
    "    delta_W_values = delta_W(theta_values, A, B, C, noise)\n",
    "    reconstructed_signal, last_mode_contribution, amplitude, phase = fourier_series(theta_values, J, delta_W_values)\n",
    "\n",
    "    fig, (ax1, ax2, ax3) = plt.subplots(1, 3, figsize=(24, 6))\n",
    "    \n",
    "    ax1.plot(theta_values, delta_W_values, label='Original $\\Delta W$', alpha=0.5)\n",
    "    ax1.plot(theta_values, reconstructed_signal, label=f'Fourier Series up to {J} modes', linestyle='--')\n",
    "    ax1.set_title(\"Fourier Series Approximation of $\\Delta W$\")\n",
    "    ax1.set_xlabel(\"$\\\\theta$\")\n",
    "    ax1.set_ylabel(\"$\\Delta W$\")\n",
    "    ax1.legend()\n",
    "    \n",
    "    ax2.plot(theta_values, last_mode_contribution, color='red',\n",
    "             label=f'Contribution of Mode {J}\\nAmplitude: {amplitude:.3f}\\nPhase: {phase:.3f} rad')\n",
    "    ax2.set_title(f\"Contribution of Mode {J}\")\n",
    "    ax2.set_xlabel(\"$\\\\theta$\")\n",
    "    ax2.set_ylabel(\"Contribution to $\\Delta W$\")\n",
    "    ax2.legend()\n",
    "\n",
    "    kernel = w0 + w1 * np.cos(theta_values) + reconstructed_signal\n",
    "    amplitude = np.max(kernel) - np.min(kernel)\n",
    "    \n",
    "    max_index = np.argmax(kernel)  \n",
    "    phase = theta_values[max_index] \n",
    "\n",
    "    ax3.plot(theta_values, kernel, color='blue', label=f'Kernel $W(\\\\delta \\\\theta)$\\nAmplitude: {amplitude:.2f}, Phase: {phase} rad')\n",
    "    ax3.set_title(f\"Kernel with Fourier Series truncated at {J}\")\n",
    "    ax3.set_xlabel(\"$\\\\delta \\\\theta$\")\n",
    "    ax3.set_ylabel(\"$W(\\\\delta \\\\theta)$\")\n",
    "    ax3.legend()\n",
    "\n",
    "interactive_plot = interactive(\n",
    "    interactive_plot,\n",
    "    J=IntSlider(min=0, max=128, step=1, value=0, description='J: Number of Modes'),\n",
    "    A=FloatSlider(min=0, max=9, step=1, value=1, description='A'),\n",
    "    B=FloatSlider(min=0, max=9, step=1, value=0, description='B'),\n",
    "    C=FloatSlider(min=0, max=9, step=1, value=0, description='C'),\n",
    "    N=IntSlider(min=16, max=1025, step=16, value=default_N, description='N: Number of Points'),\n",
    "    w0=FloatSlider(min=-20, max=10, step=1, value=-10, description='w0'),\n",
    "    w1=FloatSlider(min=-20, max=20, step=1, value=10, description='w1')\n",
    ")\n",
    "display(interactive_plot)"
   ]
  },
  {
   "cell_type": "code",
   "execution_count": 4,
   "id": "0547624f-ab46-4b83-b309-838ab56f7947",
   "metadata": {},
   "outputs": [
    {
     "name": "stdout",
     "output_type": "stream",
     "text": [
      "Critical W_1: 3.9205\n",
      "Previous Critical W_1 at Delta: 0.0143\n",
      "Solution r0=0.0646\n"
     ]
    },
    {
     "data": {
      "application/vnd.jupyter.widget-view+json": {
       "model_id": "65dd8339065544ff95728fbf51450a2a",
       "version_major": 2,
       "version_minor": 0
      },
      "text/plain": [
       "interactive(children=(FloatSlider(value=0.005, description='Epsilon:', max=0.1, readout_format='.3f', step=0.0…"
      ]
     },
     "metadata": {},
     "output_type": "display_data"
    },
    {
     "data": {
      "text/plain": [
       "<function __main__.update_plots(epsilon, delta)>"
      ]
     },
     "execution_count": 4,
     "metadata": {},
     "output_type": "execute_result"
    }
   ],
   "source": [
    "from common_utils import Ring, derivative_nonlinearity, r_02\n",
    "import numpy as np\n",
    "import matplotlib.pyplot as plt\n",
    "from ipywidgets import interact, FloatSlider\n",
    "\n",
    "np.random.seed(42)\n",
    "\n",
    "L = np.pi\n",
    "N = 255\n",
    "T = {'t_span': (0, 5000), 't_steps': 5000}\n",
    "\n",
    "w0 = -10\n",
    "I_0 = 0.9\n",
    "\n",
    "A = 0.05\n",
    "B = 0.0 \n",
    "C = 0.0\n",
    "\n",
    "M = 60  \n",
    "s = 0.1  \n",
    "kappa = s*M\n",
    "\n",
    "R = np.sqrt((2*np.pi/N)*(A+(C/2))) * (np.sqrt(s*M)/kappa)\n",
    "\n",
    "r_0 = r_02(w0, I_0)\n",
    "critical_w1 = 2 / derivative_nonlinearity(w0 * r_0 + I_0) -  R\n",
    "print(f'Critical W_1: {critical_w1:.4f}')\n",
    "print(f'Previous Critical W_1 at Delta: {R:.4f}')\n",
    "\n",
    "print(f'Solution r0={r_0:.4f}')\n",
    "\n",
    "def update_plots(epsilon, delta):\n",
    "    theta = np.linspace(-np.pi, np.pi, N)\n",
    "    w1 = critical_w1 + delta\n",
    "    perturbation = lambda theta: r_0 + epsilon * np.cos(theta)\n",
    "\n",
    "    V = lambda theta: A + B * np.cos(theta) + C * np.cos(theta)**2\n",
    "    \n",
    "    delta_W = lambda theta: np.sqrt(V(theta)) * np.random.randn()\n",
    "    \n",
    "    W = lambda delta_theta: w0 + w1 * np.cos(delta_theta) + delta_W(delta_theta)\n",
    "\n",
    "    ring = Ring(L, T, N, W, I_0, perturbation)\n",
    "\n",
    "    fig, axs = plt.subplots(1, 3, figsize=(24, 6))  \n",
    "\n",
    "    ring.plot_timetrace(ax=axs[0], phase=0)\n",
    "    ring.plot_state(ax=axs[1], timestep=-1)\n",
    "    ring.plot_dynamics(ax=axs[2])\n",
    "    \n",
    "    plt.tight_layout()\n",
    "    plt.show()\n",
    "\n",
    "epsilon_slider = FloatSlider(value=0.005, min=0.0, max=0.1, step=0.005, description='Epsilon:', readout_format='.3f')\n",
    "delta_slider = FloatSlider(value=0.0, min=-0.5, max=0.5, step=0.05, description='Delta:', readout_format='.2f')\n",
    "\n",
    "interact(update_plots, epsilon=epsilon_slider, delta=delta_slider)"
   ]
  },
  {
   "cell_type": "code",
   "execution_count": 3,
   "id": "ae5dc20e-af34-45d5-99ed-627ab9da8de2",
   "metadata": {},
   "outputs": [
    {
     "data": {
      "application/vnd.jupyter.widget-view+json": {
       "model_id": "5ade7c211f3545aa98a00e91f2eab3f8",
       "version_major": 2,
       "version_minor": 0
      },
      "text/plain": [
       "interactive(children=(FloatSlider(value=1.0, description='A:', max=10.0), FloatSlider(value=1.0, description='…"
      ]
     },
     "metadata": {},
     "output_type": "display_data"
    }
   ],
   "source": [
    "import numpy as np\n",
    "import matplotlib.pyplot as plt\n",
    "from ipywidgets import interact, FloatSlider\n",
    "from common_utils import derivative_nonlinearity, r_02\n",
    "\n",
    "w0 = -30\n",
    "I_0 = 2\n",
    "\n",
    "r_0 = r_02(w0, I_0)\n",
    "phi_0_prime = derivative_nonlinearity(w0 * r_0 + I_0)\n",
    "\n",
    "def plot_graphs(A, B, C, N, W1):\n",
    "    R1 = np.sqrt(2 * np.pi / N * (A + C / 2))\n",
    "    psi_1 = np.linspace(-np.pi, np.pi, 400)  # psi_1 values from -pi to pi\n",
    "    \n",
    "    # Compute delta\n",
    "    tan_delta = R1 * np.sin(psi_1) / (B + R1 * np.cos(psi_1))\n",
    "    delta = np.arctan(tan_delta)  # Compute delta using arctan\n",
    "\n",
    "    # Compute R\n",
    "    R = np.sqrt(W1**2 + 2 * W1 * R1 * np.cos(psi_1) + R1**2)\n",
    "    \n",
    "    # Compute critical W1 using the given formula\n",
    "    W1_cr = 2/phi_0_prime - R1 #-R1 * np.cos(psi_1) + np.sqrt((2 / phi_0_prime)**2 - R1**2 * np.sin(psi_1)**2)\n",
    "\n",
    "    # Setup plots\n",
    "    fig, ax = plt.subplots(1, 3, figsize=(18, 5))\n",
    "    \n",
    "    # Plot delta as a function of psi_1\n",
    "    ax[0].plot(psi_1, delta, label=r'$\\delta(\\psi_1)$')\n",
    "    ax[0].set_title('Plot of $\\delta$ as a Function of $\\psi_1$')\n",
    "    ax[0].set_xlabel('$\\psi_1$ (radians)')\n",
    "    ax[0].set_ylabel('$\\delta$ (radians)')\n",
    "    ax[0].grid(True)\n",
    "    ax[0].legend()\n",
    "\n",
    "    # Plot R as a function of psi_1\n",
    "    ax[1].plot(psi_1, R, label=r'$R(\\psi_1)$', color='blue')\n",
    "    ax[1].set_title('Plot of $R$ as a Function of $\\psi_1$')\n",
    "    ax[1].set_xlabel('$\\psi_1$ (radians)')\n",
    "    ax[1].set_ylabel('$R$')\n",
    "    ax[1].grid(True)\n",
    "    ax[1].legend()\n",
    "\n",
    "    # Plot critical W1 as a function of psi_1\n",
    "    ax[2].plot(psi_1, W1_cr, label=r'$W_{1}^{cr}(\\psi_1)$', color='red')\n",
    "    ax[2].axhline(y=2/phi_0_prime, color='red', linestyle='--', label='2/phi_0\\'')\n",
    "    ax[2].set_title('Critical $W_{1}^{cr}$ as a Function of $\\psi_1$')\n",
    "    ax[2].set_xlabel('$\\psi_1$ (radians)')\n",
    "    ax[2].set_ylabel('$W_{1}^{cr}$')\n",
    "    ax[2].grid(True)\n",
    "    ax[2].legend()\n",
    "\n",
    "    plt.show()\n",
    "\n",
    "# Create interactive sliders for A, B, C, N, and W1\n",
    "interact(plot_graphs,\n",
    "         A=FloatSlider(value=1, min=0, max=10, step=0.1, description='A:'),\n",
    "         B=FloatSlider(value=1, min=0, max=10, step=0.1, description='B:'),\n",
    "         C=FloatSlider(value=0, min=0, max=10, step=0.1, description='C:'),\n",
    "         N=FloatSlider(value=64, min=10, max=100, step=1, description='N:'),\n",
    "         W1=FloatSlider(value=1, min=0, max=5, step=0.1, description='W1:')\n",
    "        );\n"
   ]
  },
  {
   "cell_type": "code",
   "execution_count": 2,
   "id": "c58d74a0-bf07-4612-8278-706e7955e11d",
   "metadata": {},
   "outputs": [
    {
     "data": {
      "application/vnd.jupyter.widget-view+json": {
       "model_id": "8d8e7a73ee8b4eb997c132492d4c9e2e",
       "version_major": 2,
       "version_minor": 0
      },
      "text/plain": [
       "interactive(children=(IntSlider(value=1, description='J: Number of Modes', max=256, min=1), Output()), _dom_cl…"
      ]
     },
     "metadata": {},
     "output_type": "display_data"
    },
    {
     "data": {
      "text/plain": [
       "<function __main__.update_plots(J)>"
      ]
     },
     "execution_count": 2,
     "metadata": {},
     "output_type": "execute_result"
    }
   ],
   "source": [
    "import numpy as np\n",
    "import matplotlib.pyplot as plt\n",
    "from ipywidgets import interact, FloatSlider, IntSlider\n",
    "from common_utils import Ring, fourier_coefficients, r_02, derivative_nonlinearity\n",
    "\n",
    "w0 = -10\n",
    "I_0 = 0.9\n",
    "w1 = 6\n",
    "A = 1.0\n",
    "B = 0.0\n",
    "C = 0.0\n",
    "r_0 = r_02(w0, I_0)\n",
    "\n",
    "def fourier_kernel(theta_values, J, A, B, C, w0, w1):\n",
    "    V = A + B * np.cos(theta_values) + C * np.cos(theta_values)**2\n",
    "    delta_W_values = np.sqrt(V) * np.random.randn(len(theta_values))\n",
    "    \n",
    "    fourier_reconstruction = np.zeros_like(theta_values)\n",
    "    \n",
    "    for j in range(1, J + 1):\n",
    "        alpha_j, beta_j = fourier_coefficients(j, theta_values, delta_W_values)\n",
    "        fourier_reconstruction += alpha_j * np.cos(j * theta_values) + beta_j * np.sin(j * theta_values)\n",
    "\n",
    "    W = lambda delta_theta: w0 + w1 * np.cos(delta_theta) + np.interp(delta_theta, theta_values, fourier_reconstruction)\n",
    "    return W\n",
    "\n",
    "L=np.pi\n",
    "N=256\n",
    "T={'t_span': (0, 5000), 't_steps': 5000}\n",
    "\n",
    "def update_plots(J):\n",
    "    theta_values = np.linspace(-np.pi, np.pi, N)\n",
    "    \n",
    "    perturbation = lambda theta: r_0 + 0.005 * np.cos(theta)\n",
    "    W = fourier_kernel(theta_values, J, A, B, C, w0, w1)\n",
    "    \n",
    "    ring = Ring(L, T, N, W, I_0, perturbation)\n",
    "    \n",
    "    fig, axs = plt.subplots(1, 3, figsize=(24, 6))\n",
    "    \n",
    "    axs[0].plot(theta_values, W(theta_values), label=f'Connectivity Kernel up to mode {J}')\n",
    "    axs[0].set_title(\"Kernel Function\")\n",
    "    axs[0].set_xlabel(\"$\\\\delta \\\\theta$\")\n",
    "    axs[0].set_ylabel(\"$W(\\\\delta \\\\theta)$\")\n",
    "    axs[0].legend()\n",
    "\n",
    "    ring.plot_state(ax=axs[1], timestep=-1)\n",
    "    ring.plot_dynamics(ax=axs[2])\n",
    "    \n",
    "    plt.tight_layout()\n",
    "    plt.show()\n",
    "\n",
    "J_slider = IntSlider(min=1, max=N, step=1, value=1, description='J: Number of Modes')\n",
    "\n",
    "interact(update_plots, J=J_slider)"
   ]
  },
  {
   "cell_type": "code",
   "execution_count": 19,
   "id": "4d17ec77-2e8b-4682-9651-aa89ee1f5bd4",
   "metadata": {},
   "outputs": [
    {
     "data": {
      "application/vnd.jupyter.widget-view+json": {
       "model_id": "a90393cd9f34445889d09153229bee22",
       "version_major": 2,
       "version_minor": 0
      },
      "text/plain": [
       "interactive(children=(FloatSlider(value=-0.04159265358979303, description='psi1', max=3.141592653589793, min=-…"
      ]
     },
     "metadata": {},
     "output_type": "display_data"
    },
    {
     "data": {
      "text/plain": [
       "<function __main__.plot_W1_cr(psi1, R1)>"
      ]
     },
     "execution_count": 19,
     "metadata": {},
     "output_type": "execute_result"
    }
   ],
   "source": [
    "import numpy as np\n",
    "import matplotlib.pyplot as plt\n",
    "from ipywidgets import interact\n",
    "\n",
    "# Assuming these functions return a scalar value\n",
    "def r_02(w0, I_0):\n",
    "    return 1.0  # Placeholder function to compute r_0\n",
    "\n",
    "def derivative_nonlinearity(input):\n",
    "    return 1.0  # Placeholder derivative function of the nonlinearity\n",
    "\n",
    "w0 = -10\n",
    "I_0 = 0.9\n",
    "w1 = 6\n",
    "r_0 = r_02(w0, I_0)\n",
    "\n",
    "phi0_prime = derivative_nonlinearity(r_0 * w0 + I_0)\n",
    "\n",
    "def plot_W1_cr(psi1, R1):\n",
    "    theta = np.linspace(-1, 1, 1000)\n",
    "    W1_cr = 2 / phi0_prime - R1 * np.cos(theta + psi1) / np.cos(theta)\n",
    "    \n",
    "    plt.figure(figsize=(10, 5))\n",
    "    plt.plot(theta, W1_cr, label=f'$\\psi_1 = {psi1:.2f}, R_1 = {R1:.2f}$')\n",
    "    plt.axhline(y=2/phi0_prime, color='red', linestyle='--', label=f'y = {2/phi0_prime}')  # Horizontal line at y=3\n",
    "    plt.title(\"Plot of $W_1^{cr}$ as a Function of $\\\\theta$\")\n",
    "    plt.xlabel(\"$\\\\theta$\")\n",
    "    plt.ylabel(\"$W_1^{cr}$\")\n",
    "    plt.legend()\n",
    "    plt.grid(True)\n",
    "    plt.show()\n",
    "\n",
    "interact(plot_W1_cr, psi1=(-np.pi, np.pi, 0.1), R1=(0.0, 1.0, 0.1))"
   ]
  },
  {
   "cell_type": "code",
   "execution_count": null,
   "id": "fa4dbc01-0e05-4a43-8633-a9353229ed5f",
   "metadata": {},
   "outputs": [],
   "source": []
  }
 ],
 "metadata": {
  "kernelspec": {
   "display_name": "Python 3 (ipykernel)",
   "language": "python",
   "name": "python3"
  },
  "language_info": {
   "codemirror_mode": {
    "name": "ipython",
    "version": 3
   },
   "file_extension": ".py",
   "mimetype": "text/x-python",
   "name": "python",
   "nbconvert_exporter": "python",
   "pygments_lexer": "ipython3",
   "version": "3.11.6"
  }
 },
 "nbformat": 4,
 "nbformat_minor": 5
}
