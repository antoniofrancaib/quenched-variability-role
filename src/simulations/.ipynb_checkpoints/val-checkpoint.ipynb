{
 "cells": [
  {
   "cell_type": "code",
   "execution_count": 1,
   "id": "6c25e048-2774-4743-ab19-2806b12cd690",
   "metadata": {},
   "outputs": [
    {
     "data": {
      "application/vnd.jupyter.widget-view+json": {
       "model_id": "336a2f83237249d9b669ad8a8d06d972",
       "version_major": 2,
       "version_minor": 0
      },
      "text/plain": [
       "interactive(children=(FloatSlider(value=0.5, description='Amplitude Threshold:', layout=Layout(width='50%'), m…"
      ]
     },
     "metadata": {},
     "output_type": "display_data"
    },
    {
     "name": "stdout",
     "output_type": "stream",
     "text": [
      "r_0: 3.9348680723879\n"
     ]
    }
   ],
   "source": [
    "import pandas as pd\n",
    "import numpy as np\n",
    "import matplotlib.pyplot as plt\n",
    "from ipywidgets import interact, FloatSlider\n",
    "import ipywidgets as widgets\n",
    "\n",
    "# Read the CSV file\n",
    "df = pd.read_csv('../ring_simulation_results.csv')\n",
    "\n",
    "df = df[df['N'] == 128]\n",
    "\n",
    "def update_plot(amplitude_threshold):\n",
    "    # Group by A and relative_w1, then count bumps\n",
    "    bump_counts = df.groupby(['A', 'relative_w1']).agg({\n",
    "        'amplitude': lambda x: (x > amplitude_threshold).sum(),\n",
    "        'critical_w1': 'first'  \n",
    "    }).reset_index()\n",
    "    bump_counts.columns = ['A', 'relative_w1', 'bump_count', 'critical_w1']\n",
    "\n",
    "    # Calculate actual w1 values\n",
    "    bump_counts['w1'] = bump_counts['critical_w1'] + bump_counts['relative_w1']\n",
    "\n",
    "    # Create the scatter plot\n",
    "    plt.figure(figsize=(12, 8))\n",
    "\n",
    "    scatter = plt.scatter(bump_counts['A'], bump_counts['w1'], \n",
    "                          c=bump_counts['bump_count'], s=bump_counts['bump_count']*5,\n",
    "                          cmap='viridis', alpha=0.7)\n",
    "\n",
    "    plt.colorbar(scatter, label='Number of Bumps Formed')\n",
    "\n",
    "    # Plot the critical w1 line using values from the dataset\n",
    "    A_values = bump_counts['A'].unique()\n",
    "    critical_w1_values = bump_counts.groupby('A')['critical_w1'].first()\n",
    "    plt.plot(A_values, critical_w1_values, label='Critical $w_1$', color='red', linewidth=2)\n",
    "\n",
    "    plt.title(f'Number of Bumps Formed for Different A-w1 Pairs\\nAmplitude Threshold: {amplitude_threshold:.2f}')\n",
    "    plt.xlabel('A (Noise Amplitude)')\n",
    "    plt.ylabel('$w_1$')\n",
    "    plt.legend(loc='upper right')\n",
    "\n",
    "    plt.ylim(bump_counts['w1'].min() - 0.1, bump_counts['w1'].max() + 0.1)\n",
    "    plt.xlim(A_values.min() - 0.5, A_values.max() + 0.5)\n",
    "\n",
    "    plt.tight_layout()\n",
    "    plt.show()\n",
    "\n",
    "    # Print summary statistics\n",
    "    print(bump_counts.groupby('A')[['bump_count']].describe())\n",
    "\n",
    "    # Optional: Print a sample of the data\n",
    "    print(\"\\nSample of bump count data:\")\n",
    "    print(bump_counts.head(10))\n",
    "\n",
    "# Create an interactive widget\n",
    "interact(update_plot, \n",
    "         amplitude_threshold=FloatSlider(min=0, max=2, step=0.1, value=0.5, \n",
    "                                         description='Amplitude Threshold:',\n",
    "                                         style={'description_width': 'initial'},\n",
    "                                         layout=widgets.Layout(width='50%')))\n",
    "\n",
    "# Print r_0 value\n",
    "print(f\"r_0: {df['critical_w1'].iloc[0] + np.sqrt((2*np.pi/256)*(df['A'].iloc[0]))}\")\n"
   ]
  },
  {
   "cell_type": "code",
   "execution_count": null,
   "id": "dfbe761a-9bb3-44bc-a42e-93d9c38bf256",
   "metadata": {},
   "outputs": [],
   "source": []
  }
 ],
 "metadata": {
  "kernelspec": {
   "display_name": "Python 3 (ipykernel)",
   "language": "python",
   "name": "python3"
  },
  "language_info": {
   "codemirror_mode": {
    "name": "ipython",
    "version": 3
   },
   "file_extension": ".py",
   "mimetype": "text/x-python",
   "name": "python",
   "nbconvert_exporter": "python",
   "pygments_lexer": "ipython3",
   "version": "3.11.6"
  }
 },
 "nbformat": 4,
 "nbformat_minor": 5
}
