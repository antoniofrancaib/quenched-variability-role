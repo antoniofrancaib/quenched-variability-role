{
 "cells": [
  {
   "cell_type": "markdown",
   "id": "41e44092-e4bf-4aac-b69d-a39f694fd99f",
   "metadata": {},
   "source": [
    "# Neural Field Equation: \n",
    "Consider the ring model:\n",
    "\n",
    "$$\\tau \\frac{\\partial r(\\theta, t)}{\\partial t} = -r(\\theta, t) + \\phi\\left(\\frac{1}{2\\pi} \\int_{-\\pi}^{\\pi} W(\\theta - \\theta') r(\\theta', t) d\\theta' + I_0\\right)$$\n",
    "\n",
    "with the kernel $W(\\Delta \\theta) = W_0 + W_1 \\cos(\\Delta \\theta)$, where the nonlinearity function $\\phi(x)$ is defined by the piecewise function:\n",
    "\n",
    "$$\n",
    "\\phi(x) = \n",
    "\\begin{cases} \n",
    "x^2 & \\text{for } 0 \\leq x \\leq 1, \\\\\n",
    "2\\sqrt{x - \\frac{3}{4}} & \\text{for } x > 1, \\\\\n",
    "0 & \\text{otherwise}.\n",
    "\\end{cases}\n",
    "$$"
   ]
  },
  {
   "cell_type": "markdown",
   "id": "4b64e0c6-dd9e-4ad0-9ec9-350b943c4b5f",
   "metadata": {},
   "source": [
    "## Steady-State Solutions\n",
    "\n",
    "### Homogeneous Steady States\n",
    "The stationary solutions for the steady-state firing rate $r_0$ are determined by the equation:\n",
    "$$ r_0 = \\phi(r_0 W_0 + I_0), $$\n",
    "\n",
    "### Solutions Based on Input and Coupling Conditions\n",
    "Depending on the value of the input $I_0$ and the coupling $W_0$, the solutions are:\n",
    "\n",
    "#### For $0 \\leq r_0 W_0 + I_0 \\leq 1$:\n",
    "- **r_01 (in the code)**: \n",
    "$$\n",
    "r_0 = \\frac{1 - 2W_0 I_0 + \\sqrt{1 - 4W_0 I_0}}{2 W_0^2}\n",
    "$$\n",
    "\n",
    "- **r_02 (in the code)**: \n",
    "$$\n",
    "r_0 = \\frac{1 - 2W_0 I_0 - \\sqrt{1 - 4W_0 I_0}}{2 W_0^2}\n",
    "$$\n",
    "\n",
    "#### For $r_0 W_0 + I_0 > 1$:\n",
    "- **r_03 (in the code)**: \n",
    "$$\n",
    "r_0 = 2 W_0 + 2 \\sqrt{W_0^2 + I_0 - \\frac{3}{4}}\n",
    "$$\n",
    "\n",
    "- **r_04 (in the code)**: \n",
    "$$\n",
    "r_0 = 2 W_0 - 2 \\sqrt{W_0^2 + I_0 - \\frac{3}{4}}\n",
    "$$"
   ]
  },
  {
   "cell_type": "markdown",
   "id": "86be071f-3a47-4257-b7ca-ffbb057732d9",
   "metadata": {},
   "source": [
    "This code visualizes the fixed point solutions for the system described by the nonlinear equation $r_0 = \\phi(w_0 r_0 + I_0)$:"
   ]
  },
  {
   "cell_type": "code",
   "execution_count": 2,
   "id": "3710b4ae-24df-4311-a99d-e6ba6b913f03",
   "metadata": {},
   "outputs": [
    {
     "data": {
      "application/vnd.jupyter.widget-view+json": {
       "model_id": "e4d3211f79d242209d734f850081d826",
       "version_major": 2,
       "version_minor": 0
      },
      "text/plain": [
       "interactive(children=(FloatSlider(value=-1.0, continuous_update=False, description='$w_0$:', max=3.5, min=-3.0…"
      ]
     },
     "execution_count": 2,
     "metadata": {},
     "output_type": "execute_result"
    }
   ],
   "source": [
    "%matplotlib widget\n",
    "import numpy as np\n",
    "import matplotlib.pyplot as plt\n",
    "import ipywidgets as widgets\n",
    "from common_utils import nonlinearity, r_01, r_02, r_03, r_04  \n",
    "\n",
    "def update_plots(w0, I0):\n",
    "    plt.clf()  \n",
    "\n",
    "    response_functions = [\n",
    "        (r_01, 'red', '01'),\n",
    "        (r_02, 'orange', '02'),\n",
    "        (r_03, 'purple', '03'),\n",
    "        (r_04, 'green', '04')  \n",
    "    ]\n",
    "\n",
    "    r0_values = np.linspace(-2.5, 15, 1000)\n",
    "    phi_values = nonlinearity(w0 * r0_values + I0)\n",
    "    plt.fill_between(r0_values, -2.5, 15, where=(w0 * r0_values + I0 >= 0) & (w0 * r0_values + I0 <= 1), color='lightblue', alpha=0.3, label='$0 \\leq (w_0 \\cdot r_0 + I_0) \\leq 1$')\n",
    "    plt.fill_between(r0_values, -2.5, 15, where=w0 * r0_values + I0 > 1, color='lightgray', alpha=0.3, label='$(w_0 \\cdot r_0 + I_0) > 1$')\n",
    "    plt.plot(r0_values, phi_values, label='$\\phi(w_0 \\cdot r_0 + I_0)$', color='blue')\n",
    "    plt.plot(r0_values, r0_values, label='$r_0$', linestyle='--', color='red')\n",
    "\n",
    "    tolerance = 1e-6\n",
    "    for func, color, label in response_functions:\n",
    "        r_val = func(w0, I0) \n",
    "        if np.isclose(r_val, nonlinearity(w0 * r_val + I0), atol=tolerance):\n",
    "            plt.scatter([r_val], [nonlinearity(w0 * r_val + I0)], color=color, label=f'$r_{{{label}}}$: {r_val:.2f}', zorder=5)\n",
    "\n",
    "    plt.gca().set_facecolor('white')\n",
    "    plt.gcf().set_facecolor('white')\n",
    "    plt.xlabel('$r_0$', color='black')\n",
    "    plt.ylabel('Value', color='black')\n",
    "    plt.tick_params(axis='x', colors='black')\n",
    "    plt.tick_params(axis='y', colors='black')\n",
    "    plt.legend()\n",
    "    plt.grid(color='gray')\n",
    "    \n",
    "    plt.show()\n",
    "\n",
    "\n",
    "w0_slider = widgets.FloatSlider(value=-1, min=-3, max=3.5, step=0.1, description='$w_0$:', continuous_update=False)\n",
    "I0_slider = widgets.FloatSlider(value=0.5, min=0, max=2, step=0.05, description='$I_0$:', continuous_update=False)\n",
    "\n",
    "widgets.interactive(update_plots, w0=w0_slider, I0=I0_slider)"
   ]
  },
  {
   "cell_type": "code",
   "execution_count": 1,
   "id": "18ffc58b-c8ae-4047-a8ea-ed87df4cf2cc",
   "metadata": {},
   "outputs": [
    {
     "data": {
      "application/vnd.jupyter.widget-view+json": {
       "model_id": "51e6fad5df90401da024897d3d08bafd",
       "version_major": 2,
       "version_minor": 0
      },
      "text/plain": [
       "interactive(children=(FloatSlider(value=0.125, continuous_update=False, description='$I_0$:', max=1.5, step=0.…"
      ]
     },
     "execution_count": 1,
     "metadata": {},
     "output_type": "execute_result"
    }
   ],
   "source": [
    "# TO DO: plotear w0_critical para cada solucion, soluciones a la derecha inestable, plotear dashed line\n",
    "\n",
    "%matplotlib widget\n",
    "import numpy as np\n",
    "import matplotlib.pyplot as plt\n",
    "import ipywidgets as widgets\n",
    "from scipy.integrate import solve_ivp\n",
    "from scipy.optimize import fsolve\n",
    "from common_utils import dr_dt, r_01, r_02, r_03, r_04, find_critical_w0, apply_mask, select_and_solve\n",
    "\n",
    "def update_plots(I0):\n",
    "    N = 10000\n",
    "    w0_values = np.linspace(-3, 5, N)\n",
    "    plt.clf()  \n",
    "    \n",
    "    for func, label, linestyle in [(r_01, '$r_{01}(w_0, I_0)$', '--'), \n",
    "                                   (r_02, '$r_{02}(w_0, I_0)$', '-'), \n",
    "                                   (r_03, '$r_{03}(w_0, I_0)$', '-.'),\n",
    "                                   (r_04, '$r_{04}(w_0, I_0)$', ':')]:  # Added r_04 with linestyle ':'\n",
    "        w0_filtered, r_filtered = apply_mask(w0_values, I0, func)\n",
    "        plt.plot(w0_filtered, r_filtered, label=label, linestyle=linestyle)\n",
    "    \n",
    "        w0_selected, r_num = select_and_solve(w0_filtered, r_filtered, I0, func)\n",
    "        if len(w0_selected) > 0:\n",
    "            plt.plot(w0_selected, r_num, '.', label=f'Numerical {label}', alpha=0.75, markersize=5)\n",
    "\n",
    "    if I0 != 0 and I0 < 0.5:\n",
    "        plt.axvline(x=1/(4*I0), color='red', linestyle='--', label='$\\\\frac{1}{4I_0} = ' + f'{1/(4*I0):.2f}$' + ' Vertical Line')\n",
    "\n",
    "    if I0 < 3/4:\n",
    "        positive_sqrt_term = np.sqrt((3/4) - I0)\n",
    "        #negative_sqrt_term = -np.sqrt((3/4) - I0)\n",
    "            \n",
    "        plt.axvline(x=positive_sqrt_term, color='green', linestyle='--', label=f'$+\\\\sqrt{{3/4 - I_0}} = {positive_sqrt_term:.2f}$ Vertical Line')\n",
    "        #plt.axvline(x=negative_sqrt_term, color='blue', linestyle='--', label=f'$-\\\\sqrt{{3/4 - I_0}} = {negative_sqrt_term:.2f}$ Vertical Line')\n",
    "\n",
    "    \"\"\"critical_r01 = find_critical_w0(r_01, I0)\n",
    "    critical_r02 = find_critical_w0(r_02, I0)\n",
    "    critical_r03 = find_critical_w0(r_03, I0)\n",
    "    critical_r04 = find_critical_w0(r_04, I0)\n",
    "    \n",
    "    plt.axvline(x=critical_r01, color='purple', linestyle='--')\n",
    "    print('Critical w0 for r01 = ' + f'{critical_r01:.2f}')\n",
    "\n",
    "    plt.axvline(x=critical_r02, color='green', linestyle='--')\n",
    "    print('Critical w0 for r02 = ' + f'{critical_r02:.2f}')\n",
    "\n",
    "    if critical_r03 < 5:\n",
    "        plt.axvline(x=critical_r03, color='blue', linestyle='--')\n",
    "        print('Critical w0 for r03 = ' + f'{critical_r03:.2f}')\n",
    "\n",
    "    plt.axvline(x=critical_r04, color='black', linestyle='--')\n",
    "    print('Critical w0 for r04 = ' + f'{critical_r04:.2f}')\"\"\"\n",
    "\n",
    "    plt.xlabel('$w_0$')\n",
    "    plt.ylabel('$r_0$')\n",
    "    plt.title(f'Bifurcation Diagram at $I_0 = {I0:.2f}$')\n",
    "    plt.legend()\n",
    "    plt.grid(True)\n",
    "    plt.show()\n",
    "\n",
    "\n",
    "slider = widgets.FloatSlider(value=1/8, min=0, max=1.5, step=0.05, description='$I_0$:', continuous_update=False)\n",
    "widgets.interactive(update_plots, I0=slider)\n"
   ]
  },
  {
   "cell_type": "code",
   "execution_count": null,
   "id": "460bbc22-793b-4e55-9111-a84ffc429f9e",
   "metadata": {},
   "outputs": [],
   "source": []
  }
 ],
 "metadata": {
  "kernelspec": {
   "display_name": "Python 3 (ipykernel)",
   "language": "python",
   "name": "python3"
  },
  "language_info": {
   "codemirror_mode": {
    "name": "ipython",
    "version": 3
   },
   "file_extension": ".py",
   "mimetype": "text/x-python",
   "name": "python",
   "nbconvert_exporter": "python",
   "pygments_lexer": "ipython3",
   "version": "3.11.6"
  }
 },
 "nbformat": 4,
 "nbformat_minor": 5
}
