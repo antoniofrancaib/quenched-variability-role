{
 "cells": [
  {
   "cell_type": "markdown",
   "id": "41e44092-e4bf-4aac-b69d-a39f694fd99f",
   "metadata": {},
   "source": [
    "# Neural Field Equation: \n",
    "Consider the ring model:\n",
    "\n",
    "$$\\tau \\frac{\\partial r(\\theta, t)}{\\partial t} = -r(\\theta, t) + \\phi\\left(\\frac{1}{2\\pi} \\int_{-\\pi}^{\\pi} W(\\theta - \\theta') r(\\theta', t) d\\theta' + I_0\\right)$$\n",
    "\n",
    "with the kernel $W(\\Delta \\theta) = W_0 + W_1 \\cos(\\Delta \\theta)$. Observation: the kernel is symmetric, i.e., $\\cos(\\Delta \\theta) = \\cos(-\\Delta \\theta)$. "
   ]
  },
  {
   "cell_type": "markdown",
   "id": "4b64e0c6-dd9e-4ad0-9ec9-350b943c4b5f",
   "metadata": {},
   "source": [
    "## Steady-State Solutions\n",
    "\n",
    "### Homogeneous Steady States\n",
    "The stationary solutions for the steady-state firing rate $r_0$ are determined by the equation:\n",
    "$$ r_0 = \\phi(r_0 W_0 + I_0), $$\n",
    "where the nonlinearity function $\\phi(x)$ is defined by the piecewise function:\n",
    "\n",
    "$$\n",
    "\\phi(x) = \n",
    "\\begin{cases} \n",
    "x^2 & \\text{for } 0 \\leq x \\leq 1, \\\\\n",
    "2\\sqrt{x - \\frac{3}{4}} & \\text{for } x > 1, \\\\\n",
    "0 & \\text{otherwise}.\n",
    "\\end{cases}\n",
    "$$\n",
    "\n",
    "### Solutions Based on Input and Coupling Conditions\n",
    "Depending on the value of the input $I_0$ and the coupling $W_0$, the solutions are:\n",
    "\n",
    "#### For $0 \\leq r_0 W_0 + I_0 \\leq 1$:\n",
    "- **r_01 (in the code)**: \n",
    "$$\n",
    "r_0 = \\frac{1 - 2W_0 I_0 + \\sqrt{1 - 4W_0 I_0}}{2 W_0^2}\n",
    "$$\n",
    "\n",
    "- **r_02 (in the code)**: \n",
    "$$\n",
    "r_0 = \\frac{1 - 2W_0 I_0 - \\sqrt{1 - 4W_0 I_0}}{2 W_0^2}\n",
    "$$\n",
    "\n",
    "#### For $r_0 W_0 + I_0 > 1$:\n",
    "- **r_03 (in the code)**: \n",
    "$$\n",
    "r_0 = 2 W_0 + 2 \\sqrt{W_0^2 + I_0 - \\frac{3}{4}}\n",
    "$$"
   ]
  },
  {
   "cell_type": "markdown",
   "id": "86be071f-3a47-4257-b7ca-ffbb057732d9",
   "metadata": {},
   "source": [
    "This code visualizes the fixed point solutions for the system described by the nonlinear equation $r_0 = \\phi(w_0 r_0 + I_0)$:"
   ]
  },
  {
   "cell_type": "code",
   "execution_count": 26,
   "id": "3710b4ae-24df-4311-a99d-e6ba6b913f03",
   "metadata": {},
   "outputs": [
    {
     "data": {
      "application/vnd.jupyter.widget-view+json": {
       "model_id": "f98d3e0859694430aa72848ed03033ec",
       "version_major": 2,
       "version_minor": 0
      },
      "text/plain": [
       "interactive(children=(FloatSlider(value=-1.0, continuous_update=False, description='$w_0$:', max=3.5, min=-3.0…"
      ]
     },
     "execution_count": 26,
     "metadata": {},
     "output_type": "execute_result"
    }
   ],
   "source": [
    "%matplotlib widget\n",
    "import numpy as np\n",
    "import matplotlib.pyplot as plt\n",
    "import ipywidgets as widgets\n",
    "from common_utils import fixed_point_solver, nonlinearity, derivative_nonlinearity, r_01, r_02, r_03\n",
    "\n",
    "def update_plots(w0, I0):\n",
    "    plt.clf()  \n",
    "        \n",
    "    r_01_val = r_01(w0, I0)\n",
    "    r_02_val = r_02(w0, I0) \n",
    "    r_03_val = r_03(w0, I0) \n",
    "    \n",
    "    r0_values = np.linspace(-2.5, 15, 1000)\n",
    "    phi_values = nonlinearity(w0 * r0_values + I0)\n",
    "\n",
    "    plt.fill_between(r0_values, -2.5, 15, where=(w0 * r0_values + I0 >= 0) & (w0 * r0_values + I0 <= 1), color='lightblue', alpha=0.3, label='$0 \\leq (w_0 \\cdot r_0 + I_0) \\leq 1$')\n",
    "    plt.fill_between(r0_values, -2.5, 15, where=w0 * r0_values + I0 > 1, color='lightgray', alpha=0.3, label='$(w_0 \\cdot r_0 + I_0) > 1$')\n",
    "\n",
    "    plt.plot(r0_values, phi_values, label='$\\phi(w_0 \\cdot r_0 + I_0)$', color='blue')\n",
    "    plt.plot(r0_values, r0_values, label='$r_0$', linestyle='--', color='red')\n",
    "\n",
    "    tolerance=1e-4\n",
    "    if np.isclose(r_01_val, nonlinearity(w0*r_01_val+I0), atol=tolerance):\n",
    "        plt.scatter([r_01_val], [nonlinearity(w0*r_01_val+I0)], color='red', label=f'$r_{{01}}$: {r_01_val:.2f}', zorder=5)\n",
    "        \n",
    "    if np.isclose(r_02_val, nonlinearity(w0*r_02_val+I0), atol=tolerance):\n",
    "        plt.scatter([r_02_val], [nonlinearity(w0*r_02_val+I0)], color='orange', label=f'$r_{{02}}$: {r_02_val:.2f}', zorder=5)\n",
    "    \n",
    "    if np.isclose(r_03_val, nonlinearity(w0*r_03_val+I0), atol=tolerance):\n",
    "        plt.scatter([r_03_val], [nonlinearity(w0*r_03_val+I0)], color='purple', label=f'$r_{{03}}$: {r_03_val:.2f}', zorder=5)\n",
    "        \n",
    "    plt.gca().set_facecolor('white')\n",
    "    plt.gcf().set_facecolor('white')\n",
    "    plt.xlabel('$r_0$', color='black')\n",
    "    plt.ylabel('Value', color='black')\n",
    "    plt.tick_params(axis='x', colors='black')\n",
    "    plt.tick_params(axis='y', colors='black')\n",
    "    plt.legend()\n",
    "    plt.grid(color='gray')\n",
    "    \n",
    "    plt.show()\n",
    "\n",
    "w0_slider = widgets.FloatSlider(value=-1, min=-3, max=3.5, step=0.1, description='$w_0$:', continuous_update=False)\n",
    "I0_slider = widgets.FloatSlider(value=0.5, min=0, max=2, step=0.05, description='$I_0$:', continuous_update=False)\n",
    "\n",
    "widgets.interactive(update_plots, w0=w0_slider, I0=I0_slider)"
   ]
  },
  {
   "cell_type": "code",
   "execution_count": 69,
   "id": "18ffc58b-c8ae-4047-a8ea-ed87df4cf2cc",
   "metadata": {},
   "outputs": [
    {
     "data": {
      "application/vnd.jupyter.widget-view+json": {
       "model_id": "548dbe50f10e41ab956b517dedd79ffd",
       "version_major": 2,
       "version_minor": 0
      },
      "text/plain": [
       "interactive(children=(FloatSlider(value=0.125, continuous_update=False, description='$I_0$:', max=1.5, step=0.…"
      ]
     },
     "execution_count": 69,
     "metadata": {},
     "output_type": "execute_result"
    }
   ],
   "source": [
    "# TO DO: plot critical w0, fix r_03 solution\n",
    "\n",
    "%matplotlib widget\n",
    "import numpy as np\n",
    "import matplotlib.pyplot as plt\n",
    "import ipywidgets as widgets\n",
    "from scipy.integrate import solve_ivp\n",
    "from scipy.optimize import fsolve\n",
    "from common_utils import dr_dt, r_01, r_02, r_03, nonlinearity, derivative_nonlinearity\n",
    "\n",
    "def update_plots(I0):\n",
    "    N = 1000\n",
    "    w0_values = np.linspace(-3, 5, N)\n",
    "    plt.clf()  \n",
    "    \n",
    "    def apply_mask(w0, I_0, r_func, tolerance=1e-1):\n",
    "        r_values = r_func(w0, I_0)\n",
    "        mask = np.isclose(r_values, nonlinearity(w0 * r_values + I_0), atol=tolerance)\n",
    "        \n",
    "        r_values_filtered = np.where(mask, r_values, np.nan)\n",
    "        w0_filtered = np.where(mask, w0, np.nan)  \n",
    "    \n",
    "        return w0_filtered, r_values_filtered\n",
    "\n",
    "    def select_and_solve(w0, r_filtered, I_0, func):\n",
    "        non_nan_indices = ~np.isnan(r_filtered)\n",
    "        w0_non_nan = w0[non_nan_indices]\n",
    "        \n",
    "        if len(w0_non_nan) == 0:\n",
    "            return np.array([]), np.array([])  \n",
    "        \n",
    "        indices_selected = np.linspace(0, len(w0_non_nan) - 1, min(len(w0_non_nan), 10), dtype=int)\n",
    "        w0_selected = w0_non_nan[indices_selected]\n",
    "        r_num = []\n",
    "        t_span = [0, 100]\n",
    "        t_eval = np.linspace(t_span[0], t_span[1], 1000)\n",
    "        \n",
    "        for w0_val in w0_selected:\n",
    "            r0 = [func(w0_val, I_0)] # TOY CHECK: add +0.01 to check stability of each \n",
    "            sol = solve_ivp(dr_dt, t_span, r0, args=(w0_val, I_0), t_eval=t_eval, method='RK45')\n",
    "            r_num.append(sol.y[0, -1])\n",
    "        \n",
    "        return w0_selected, r_num\n",
    "\n",
    "    def find_critical_w0(r_func, I_0, initial_guess=0.5):\n",
    "\n",
    "        equation = lambda w0: w0 * derivative_nonlinearity(w0 * r_func(w0, I_0) + I_0) - 1\n",
    "    \n",
    "        critical_w0 = fsolve(equation, initial_guess)[0]\n",
    "        return critical_w0\n",
    "    \n",
    "    for func, label, linestyle in [(r_01, 'r_{01}', '--'), (r_02, 'r_{02}', '-'), (r_03, 'r_{03}', '-')]:                                              \n",
    "        w0_filtered, r_filtered = apply_mask(w0_values, I0, func)\n",
    "        if len(w0_filtered) > 0:\n",
    "            plt.plot(w0_filtered, r_filtered, label=f'${label}$', linestyle=linestyle)\n",
    "            \n",
    "            w0_selected, r_num = select_and_solve(w0_filtered, r_filtered, I0, func)\n",
    "            if len(w0_selected) > 0:\n",
    "                plt.plot(w0_selected, r_num, '.', label=f'num ${label}$', alpha=0.75, markersize=5)\n",
    "\n",
    "    if I0 != 0 and I0 < 0.5:\n",
    "        plt.axvline(x=1/(4*I0), color='red', linestyle='--', label='$\\\\frac{1}{4I_0} = ' + f'{1/(4*I0):.2f}$' + ' Vertical Line')\n",
    "\n",
    "\n",
    "    critical_r01 = find_critical_w0(r_01, I0)\n",
    "    critical_r02 = find_critical_w0(r_02, I0)\n",
    "    critical_r03 = find_critical_w0(r_03, I0)\n",
    "    \n",
    "    plt.axvline(x=critical_r01, color='purple', linestyle='--')\n",
    "    print('Critical w0 for r01 = ' + f'{critical_r01:.2f}')\n",
    "\n",
    "    plt.axvline(x=critical_r02, color='green', linestyle='--')\n",
    "    print('Critical w0 for r02 = ' + f'{critical_r02:.2f}')\n",
    "\n",
    "    plt.axvline(x=critical_r03, color='blue', linestyle='--')\n",
    "    print('Critical w0 for r03 = ' + f'{critical_r03:.2f}')\n",
    "    \n",
    "    plt.xlabel('$w_0$')\n",
    "    plt.ylabel('$r_0$')\n",
    "    plt.title(f'Bifurcation Diagram at $I_0 = {I0:.2f}$')\n",
    "    plt.legend()\n",
    "    plt.grid(True)\n",
    "    plt.show()\n",
    "\n",
    "\n",
    "slider = widgets.FloatSlider(value=1/8, min=0, max=1.5, step=0.05, description='$I_0$:', continuous_update=False)\n",
    "widgets.interactive(update_plots, I0=slider)\n"
   ]
  },
  {
   "cell_type": "markdown",
   "id": "90339c52-c867-4caa-bd05-b7982045db34",
   "metadata": {},
   "source": [
    "there is a tradeoff in the tolerance param applied in the mask, the smaller it is the \"smoother\" the graph looks, the worst the numerical solutions for the unstable solution r_01. I find the optimal balance to be 1e-1, with this value the theoretical solutions plot looks smooth "
   ]
  },
  {
   "cell_type": "code",
   "execution_count": null,
   "id": "460bbc22-793b-4e55-9111-a84ffc429f9e",
   "metadata": {},
   "outputs": [],
   "source": []
  }
 ],
 "metadata": {
  "kernelspec": {
   "display_name": "Python 3 (ipykernel)",
   "language": "python",
   "name": "python3"
  },
  "language_info": {
   "codemirror_mode": {
    "name": "ipython",
    "version": 3
   },
   "file_extension": ".py",
   "mimetype": "text/x-python",
   "name": "python",
   "nbconvert_exporter": "python",
   "pygments_lexer": "ipython3",
   "version": "3.11.6"
  }
 },
 "nbformat": 4,
 "nbformat_minor": 5
}
