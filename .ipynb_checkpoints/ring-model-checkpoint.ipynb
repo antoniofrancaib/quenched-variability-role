{
 "cells": [
  {
   "cell_type": "markdown",
   "id": "551eb32a-802e-4366-b3f7-3e2ce0d51be3",
   "metadata": {},
   "source": [
    "# Neural Field Equation: \n",
    "Consider the ring model:\n",
    "\n",
    "$$\\tau \\frac{\\partial r(\\theta, t)}{\\partial t} = -r(\\theta, t) + \\phi\\left(\\frac{1}{2\\pi} \\int_{-\\pi}^{\\pi} W(\\theta - \\theta') r(\\theta', t) d\\theta' + I_0\\right)$$\n",
    "\n",
    "with the kernel $W(\\Delta \\theta) = W_0 + W_1 \\cos(\\Delta \\theta)$."
   ]
  },
  {
   "cell_type": "markdown",
   "id": "3c1e315a-2fcc-4735-a39e-28687d7e088f",
   "metadata": {},
   "source": [
    "## Linear Stability Analysis\n",
    "\n",
    "The process of linear stability analysis involves evaluating the stability of a steady state by analyzing the response of the system to small perturbations. In this context, we will consider a ring model of neurons and its corresponding homogeneous steady state and perturbations.\n",
    "\n",
    "### Stationary Solution\n",
    "\n",
    "We start by considering the stationary solution, also known as the homogeneous steady state. In this state, any influence of the spatial component $W_1$ vanishes because the cosine term integrates to zero over a full period:\n",
    "\n",
    "$$\n",
    "r_0 = \\phi\\left( \\frac{r_0}{2\\pi}  \\int_{-\\pi}^{\\pi} W_0 + W_1 \\cos(\\theta - \\theta') d\\theta' + I_0 \\right) = \\phi(r_0 W_0 + I_0).\n",
    "$$\n",
    "\n",
    "Here, $r_0$ represents the activity of the homogeneous steady state, $\\phi$ is a nonlinear function characterizing the response of the neurons, $W_0$ is the homogeneous synaptic connectivity, $W_1$ represents the spatially modulated connectivity, and $I_0$ is the external input to the system.\n",
    "\n",
    "### Perturbation Analysis\n",
    "\n",
    "Next, consider a small perturbation around this steady state:\n",
    "\n",
    "$$\n",
    "r(\\theta, t) = r_0 + \\delta r_0 e^{\\lambda_0 t} + \\delta r_1 \\cos(\\theta) e^{\\lambda_1 t}\n",
    "$$\n",
    "\n",
    "This perturbation includes a uniform part $\\delta r_0 e^{\\lambda_0 t}$ and a spatially modulated part $\\delta r_1 \\cos(\\theta) e^{\\lambda_1 t}$, where $\\delta r_0$ and $\\delta r_1$ are small amplitudes of perturbation, and $\\lambda_0$ and $\\lambda_1$ are the growth rates of these perturbations.\n",
    "\n",
    "We then plug this perturbation into the ring model equation, assuming $\\tau=1$ for simplicity. By integrating over the population, we observe that:\n",
    "\n",
    "$$\n",
    "\\frac{1}{2\\pi} \\int_{-\\pi}^{\\pi} (W_0 + W_1 \\cos(\\theta - \\theta'))(r_0 + \\delta r_0 e^{\\lambda_0 t} + \\delta r_1 \\cos(\\theta') e^{\\lambda_1 t}) d\\theta' = W_0 r_0 + W_0 \\delta r_0 e^{\\lambda_0 t} + \\frac{W_1}{2} \\delta r_1 \\cos(\\theta) e^{\\lambda_1 t}\n",
    "$$\n",
    "\n",
    "By linearizing the nonlinearity $\\phi$ around the steady state, we obtain the following expression for the time evolution of the perturbations:\n",
    "\n",
    "$$\n",
    "\\lambda_0 \\delta r_0 e^{\\lambda_0 t} + \\lambda_1 \\delta r_1 \\cos(\\theta) e^{\\lambda_1 t} = - \\left( r_0 + \\delta r_0 e^{\\lambda_0 t} + \\delta r_1 \\cos(\\theta) e^{\\lambda_1 t} \\right) + \\phi \\left( r_0 W_0 + I_0 \\right) + \\phi' \\left( r_0 W_0 + I_0 \\right) \\left( W_0 \\delta r_0 e^{\\lambda_0 t} + \\frac{W_1 \\delta r_1 \\cos(\\theta) e^{\\lambda_1 t}}{2} \\right)\n",
    "$$\n",
    "\n",
    "### Growth Rate Equations\n",
    "\n",
    "By equating the terms corresponding to $\\lambda_0$ and $\\lambda_1$ to each other, we can solve for the growth rates:\n",
    "\n",
    "$$\n",
    "\\lambda_0 = -1 + \\phi'(W_0) W_0\n",
    "$$\n",
    "\n",
    "and\n",
    "\n",
    "$$\n",
    "\\lambda_1 = -1 + \\phi'(W_0) \\frac{W_1}{2}\n",
    "$$\n",
    "\n",
    "### Stability Condition\n",
    "\n",
    "To ensure the stability of the steady state and avoid uniform instability, the homogeneous synaptic connectivity $W_0$ must satisfy the condition:\n",
    "\n",
    "$$\n",
    "W_0 < \\frac{1}{\\phi'(W_0)}\n",
    "$$\n",
    "\n",
    "Finally, we can find the critical value of the spatially modulated connectivity $W_1$, which we denote as $W_1^{cr}$, beyond which the steady state becomes unstable to spatial perturbations:\n",
    "\n",
    "$$\n",
    "W_1^{cr} = \\frac{2}{\\phi'(W_0)}\n",
    "$$"
   ]
  },
  {
   "cell_type": "markdown",
   "id": "f5e536f5-e7d1-458a-a708-b4e05a94e7ad",
   "metadata": {},
   "source": [
    "-- **Interactive visualization to study the dynamics of the ring model.** The first plot represents the state of the neural ring at the final timestep. The second plot visualizes the dynamics of the neural ring over time."
   ]
  },
  {
   "cell_type": "code",
   "execution_count": null,
   "id": "e0d920a1-7b70-47cd-a5bd-14d67c029520",
   "metadata": {},
   "outputs": [],
   "source": [
    "from common_utils import Ring, derivative_nonlinearity, r_02\n",
    "import numpy as np\n",
    "import matplotlib.pyplot as plt\n",
    "from ipywidgets import interact, FloatSlider\n",
    "\n",
    "L = np.pi\n",
    "N = 256\n",
    "w0 = -20\n",
    "I_0 = 0.9\n",
    "\n",
    "r_0 = r_02(w0, I_0)\n",
    "critical_w1 = 2 / derivative_nonlinearity(w0 * r_0 + I_0)\n",
    "print(f'Critical W_1: {critical_w1:.4f}')\n",
    "\n",
    "print(f'Solution r0={r_0:.4f}')\n",
    "\n",
    "def update_plots(epsilon, delta):\n",
    "    w1 = critical_w1 + delta\n",
    "    perturbation = lambda theta: r_0 + epsilon * np.cos(theta)\n",
    "    W = lambda delta_theta: w0 + w1 * np.cos(delta_theta)\n",
    "\n",
    "    ring = Ring(L, N, W, I_0, perturbation)\n",
    "\n",
    "    fig, (ax1, ax2) = plt.subplots(1, 2, figsize=(20, 6))\n",
    "    \n",
    "    ring.plot_state(ax=ax1, timestep=-1)\n",
    "    ring.plot_dynamics(ax=ax2)\n",
    "    \n",
    "    plt.tight_layout()\n",
    "    plt.show()\n",
    "\n",
    "epsilon_slider = FloatSlider(value=0.005, min=0.0, max=0.1, step=0.005, description='Epsilon:', readout_format='.3f')\n",
    "delta_slider = FloatSlider(value=4.0, min=-0.5, max=8.0, step=0.1, description='Delta:', readout_format='.2f')\n",
    "\n",
    "interact(update_plots, epsilon=epsilon_slider, delta=delta_slider)"
   ]
  },
  {
   "cell_type": "code",
   "execution_count": 8,
   "id": "206c2165-e759-4e9e-aca0-b115ffb79407",
   "metadata": {},
   "outputs": [
    {
     "data": {
      "application/vnd.jupyter.widget-view+json": {
       "model_id": "f978509828eb40f4951eb8bc8cf76924",
       "version_major": 2,
       "version_minor": 0
      },
      "text/plain": [
       "interactive(children=(FloatSlider(value=0.05, description='I_0:', max=1.0), Output()), _dom_classes=('widget-i…"
      ]
     },
     "metadata": {},
     "output_type": "display_data"
    },
    {
     "data": {
      "text/plain": [
       "<function __main__.plot_bifurcation_diagram(I_0)>"
      ]
     },
     "execution_count": 8,
     "metadata": {},
     "output_type": "execute_result"
    }
   ],
   "source": [
    "import numpy as np\n",
    "import matplotlib.pyplot as plt\n",
    "from ipywidgets import interact, FloatSlider\n",
    "from common_utils import Ring, derivative_nonlinearity, r_02  # Assuming these are defined\n",
    "\n",
    "def plot_bifurcation_diagram(I_0):\n",
    "    L = np.pi\n",
    "    N = 256\n",
    "    w0 = -1\n",
    "    r_0 = r_02(w0, I_0)\n",
    "    \n",
    "    critical_w1 = 2 / derivative_nonlinearity(w0 * r_0 + I_0)\n",
    "\n",
    "    amplitudes = []\n",
    "\n",
    "    delta = 0.5\n",
    "    w1_values = np.linspace(critical_w1 - delta, critical_w1 + delta, 5)\n",
    "\n",
    "    epsilon = 0.005\n",
    "    perturbation = lambda theta: r_0 + epsilon * r_0 + epsilon * r_0 * np.cos(theta)\n",
    "\n",
    "    for w1 in w1_values:\n",
    "        W = lambda delta_theta: w0 + w1 * np.cos(delta_theta)\n",
    "        ring = Ring(L, N, W, I_0, perturbation)\n",
    "        amplitude = ring.calculate_bump_amplitude()\n",
    "        amplitudes.append(amplitude)\n",
    "\n",
    "    plt.figure(figsize=(10, 6))\n",
    "    plt.plot(w1_values, amplitudes, 'ro', markersize=2)\n",
    "    plt.axvline(x=critical_w1, color='b', linestyle='--', label=f'Critical W1: {critical_w1:.2f}')\n",
    "    plt.xlabel('$W_1$ Values')\n",
    "    plt.ylabel('Amplitude')\n",
    "    plt.title('Bifurcation Diagram for $I_0 = {:.2f}$'.format(I_0))\n",
    "    plt.grid(True)\n",
    "    plt.legend()\n",
    "    plt.show()\n",
    "\n",
    "slider = FloatSlider(value=0.05, min=0, max=1, step=0.1, description='I_0:')\n",
    "interact(plot_bifurcation_diagram, I_0=slider)"
   ]
  },
  {
   "cell_type": "code",
   "execution_count": null,
   "id": "fe210aee-c81b-40d6-a73b-dd489d46e502",
   "metadata": {},
   "outputs": [],
   "source": []
  }
 ],
 "metadata": {
  "kernelspec": {
   "display_name": "Python 3 (ipykernel)",
   "language": "python",
   "name": "python3"
  },
  "language_info": {
   "codemirror_mode": {
    "name": "ipython",
    "version": 3
   },
   "file_extension": ".py",
   "mimetype": "text/x-python",
   "name": "python",
   "nbconvert_exporter": "python",
   "pygments_lexer": "ipython3",
   "version": "3.11.6"
  }
 },
 "nbformat": 4,
 "nbformat_minor": 5
}
