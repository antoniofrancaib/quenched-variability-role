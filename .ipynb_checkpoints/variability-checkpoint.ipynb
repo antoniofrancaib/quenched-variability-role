{
 "cells": [
  {
   "cell_type": "code",
   "execution_count": 27,
   "id": "98b04142-194e-46fc-ad1b-a99483a24dfa",
   "metadata": {},
   "outputs": [
    {
     "data": {
      "application/vnd.jupyter.widget-view+json": {
       "model_id": "858939d7f5e94e0fbc9d81a807753789",
       "version_major": 2,
       "version_minor": 0
      },
      "text/plain": [
       "interactive(children=(FloatSlider(value=10.0, description='Eta', max=50.0, step=1.0), Output()), _dom_classes=…"
      ]
     },
     "metadata": {},
     "output_type": "display_data"
    },
    {
     "data": {
      "text/plain": [
       "<function __main__.plot_V_eta(eta)>"
      ]
     },
     "execution_count": 27,
     "metadata": {},
     "output_type": "execute_result"
    }
   ],
   "source": [
    "import numpy as np\n",
    "import matplotlib.pyplot as plt\n",
    "from ipywidgets import interact, FloatSlider\n",
    "import ipywidgets as widgets\n",
    "\n",
    "L = np.pi\n",
    "N = 256\n",
    "M = 60  \n",
    "s = 0.1  \n",
    "P, D = 0.3, 0.3\n",
    "\n",
    "W_max = 40\n",
    "kappa = s*M\n",
    "\n",
    "mu = P / (P + D)\n",
    "\n",
    "w_sq = mu * (-D * P + 3 * P**2 - 4 * P) / (3 * D**2 + 2 * D * P - 4 * D + 3 * P**2 - 4 * P)\n",
    "F_avg = -D - P + 1\n",
    "F_sq_avg = 3 * D**2 / 2 + D * P - 2 * D + 3 * P**2 / 2 - 2 * P + 1\n",
    "\n",
    "A_0 = P**2 + 2*P*mu*(-D - P + 1) - mu**2 + w_sq*(-D - P + 1)**2\n",
    "B_0 = (-2*D + 2*P)*(P**2 + P*mu*(-2*D - 2*P + 1) - w_sq*(D + P)*(-D - P + 1))/(D + P)\n",
    "C_0 = (-D + P)**2*(P**2 - 2*P*mu*(D + P) + w_sq*(D + P)**2)/(D + P)**2\n",
    "\n",
    "\n",
    "a_eta = lambda eta: (2 * P * D / (P + D)) * (1 - s**2*(P + D))**eta\n",
    "\n",
    "A_eta = lambda eta: A_0 * (F_sq_avg)**eta + mu**2 * ((F_sq_avg)**eta - 1) + \\\n",
    "    3/2 * P**2 * s**2 * (1 - (F_sq_avg)**eta) / (1 - F_sq_avg) + \\\n",
    "    2*P**2 * s**4 * (1 - 3/2 * P - 1/2 * D) * (1/(F_avg - F_sq_avg) * (1 - (F_avg)**eta)/(1 - F_avg) - (1 - (F_sq_avg)**eta)/(1 - F_sq_avg)) + \\\n",
    "    2*mu*P * s**2 * (1 - 3/2 * P - 1/2 * D) * ((F_avg)**eta - (F_sq_avg)**eta) / (F_avg - F_sq_avg)\n",
    "\n",
    "\n",
    "B_eta = lambda eta: B_0 * (F_sq_avg)**eta + 2*a_eta(0)*mu * ((F_sq_avg)**eta - (F_avg)**(2*eta)) + \\\n",
    "    2*a_eta(0)*P * s**2 * (1 - 3/2 * P - 1/2 * D) * (F_avg**eta - F_sq_avg**eta) / (F_avg - F_sq_avg) - \\\n",
    "    (F_avg**eta - F_sq_avg**(2*eta)) / (1 - F_avg)\n",
    "\n",
    "\n",
    "C_eta = lambda eta: C_0 * (F_sq_avg)**eta + a_eta(0)**2 * ((F_sq_avg)**eta - (F_avg)**(2*eta))\n",
    "\n",
    "\n",
    "V_eta = lambda eta, theta: A_eta(eta) + B_eta(eta) * np.cos(theta) + C_eta(eta) * np.cos(theta)**2\n",
    "\n",
    "delta_W = lambda eta, delta_theta: W_max * ((s*M)**0.5 / kappa) * V_eta(eta, delta_theta)**0.5\n",
    "\n",
    "w0=-30\n",
    "\n",
    "def plot_V_eta(eta):\n",
    "    W_1 = W_max * ((s*M) / kappa) * a_eta(eta)\n",
    "    \n",
    "    W = lambda eta, delta_theta: w0 + W_1 * np.cos(delta_theta) + delta_W(eta, delta_theta) * np.random.randn(len(theta))\n",
    "    \n",
    "    print(f\"a_eta({eta}) = {a_eta(eta)}\")\n",
    "    print(f\"A_eta({eta}) = {A_eta(eta)}\")\n",
    "    print(f\"B_eta({eta}) = {B_eta(eta)}\")\n",
    "    print(f\"C_eta({eta}) = {C_eta(eta)}\")\n",
    "    \n",
    "    plt.figure(figsize=(10, 6))\n",
    "    plt.plot(theta, V_eta(eta, theta), 'ro', markersize=2)\n",
    "    plt.xlabel('Theta')\n",
    "    plt.ylabel('V(eta, theta)')\n",
    "    plt.title(f'V(eta, theta) for eta={eta}')\n",
    "    plt.grid(True)\n",
    "    plt.legend(['V_eta'])\n",
    "    plt.show()\n",
    "\n",
    "theta = np.linspace(-np.pi, np.pi, N)\n",
    "\n",
    "eta_slider = FloatSlider(min=0, max=50, step=1.0, value=10, description='Eta')\n",
    "interact(plot_V_eta, eta=eta_slider)\n"
   ]
  },
  {
   "cell_type": "code",
   "execution_count": 34,
   "id": "8ee22ccc-4d2f-4aed-a33c-e3be5e36d435",
   "metadata": {},
   "outputs": [
    {
     "data": {
      "application/vnd.jupyter.widget-view+json": {
       "model_id": "936d1574c31646719f79a8ed2b413457",
       "version_major": 2,
       "version_minor": 0
      },
      "text/plain": [
       "interactive(children=(FloatSlider(value=1.0, description='A', max=5.0, min=-5.0), FloatSlider(value=0.1, descr…"
      ]
     },
     "metadata": {},
     "output_type": "display_data"
    },
    {
     "data": {
      "text/plain": [
       "<function __main__.plot_V_eta_and_delta_W(A, B, C)>"
      ]
     },
     "execution_count": 34,
     "metadata": {},
     "output_type": "execute_result"
    }
   ],
   "source": [
    "import numpy as np\n",
    "import matplotlib.pyplot as plt\n",
    "from ipywidgets import interact, FloatSlider\n",
    "\n",
    "L = np.pi\n",
    "N = 256\n",
    "theta = np.linspace(-np.pi, np.pi, N)\n",
    "\n",
    "def plot_V_eta_and_delta_W(A, B, C):\n",
    "    V = lambda theta: A + B * np.cos(theta) + C * np.cos(theta)**2\n",
    "    V_values = V(theta)\n",
    "\n",
    "    V_non_negative = np.maximum(V_values, 0)\n",
    "    delta_W = lambda theta: np.sqrt(V_non_negative) * np.random.randn(len(theta))\n",
    "\n",
    "    fig, axs = plt.subplots(1, 2, figsize=(20, 6))  \n",
    "\n",
    "    axs[0].plot(theta, V_values, 'r-', markersize=2)\n",
    "    axs[0].axhline(0, color='gray', linestyle='--')\n",
    "    axs[0].set_xlabel('Theta')\n",
    "    axs[0].set_ylabel('V(theta)')\n",
    "    axs[0].set_title('V(theta)')\n",
    "    axs[0].grid(True)\n",
    "    axs[0].legend(['V'])\n",
    "\n",
    "    delta_W_values = delta_W(theta)\n",
    "    axs[1].plot(theta, delta_W_values, 'b-', markersize=2)\n",
    "    axs[1].set_xlabel('Theta')\n",
    "    axs[1].set_ylabel('delta_W(theta)')\n",
    "    axs[1].set_title('delta_W(theta)')\n",
    "    axs[1].grid(True)\n",
    "    axs[1].legend(['delta_W'])\n",
    "\n",
    "    plt.show()\n",
    "\n",
    "A_slider = FloatSlider(min=-5, max=5, step=0.1, value=1, description='A')\n",
    "B_slider = FloatSlider(min=-5, max=5, step=0.1, value=0.1, description='B')\n",
    "C_slider = FloatSlider(min=-5, max=5, step=0.1, value=0.1, description='C')\n",
    "\n",
    "interact(plot_V_eta_and_delta_W, A=A_slider, B=B_slider, C=C_slider)\n"
   ]
  },
  {
   "cell_type": "code",
   "execution_count": null,
   "id": "74883605-e234-4430-8017-ff77495127b9",
   "metadata": {},
   "outputs": [],
   "source": []
  }
 ],
 "metadata": {
  "kernelspec": {
   "display_name": "Python 3 (ipykernel)",
   "language": "python",
   "name": "python3"
  },
  "language_info": {
   "codemirror_mode": {
    "name": "ipython",
    "version": 3
   },
   "file_extension": ".py",
   "mimetype": "text/x-python",
   "name": "python",
   "nbconvert_exporter": "python",
   "pygments_lexer": "ipython3",
   "version": "3.11.6"
  }
 },
 "nbformat": 4,
 "nbformat_minor": 5
}
