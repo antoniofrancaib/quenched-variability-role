{
 "cells": [
  {
   "cell_type": "code",
   "execution_count": 53,
   "id": "b7fa91b6-62af-4bce-95a2-38bc5deb76b5",
   "metadata": {},
   "outputs": [
    {
     "data": {
      "application/vnd.jupyter.widget-view+json": {
       "model_id": "028d653664204d1ebfd2d408c4f99ed5",
       "version_major": 2,
       "version_minor": 0
      },
      "text/plain": [
       "interactive(children=(IntSlider(value=1, description='J: Number of Modes', max=128, min=1), FloatSlider(value=…"
      ]
     },
     "metadata": {},
     "output_type": "display_data"
    }
   ],
   "source": [
    "import numpy as np\n",
    "import matplotlib.pyplot as plt\n",
    "from ipywidgets import interactive, IntSlider, FloatSlider\n",
    "import ipywidgets as widgets\n",
    "\n",
    "def V(theta, A, B, C):\n",
    "    return A + B * np.cos(theta) + C * np.cos(theta)**2\n",
    "\n",
    "def generate_noise(N):\n",
    "    return np.random.randn(N)\n",
    "\n",
    "def delta_W(theta, A, B, C, noise):\n",
    "    return np.sqrt(V(theta, A, B, C)) * noise\n",
    "\n",
    "# Function to calculate Fourier coefficients\n",
    "def fourier_coefficients(j, theta_values, delta_W_values):\n",
    "    cos_terms = np.cos(j * theta_values)\n",
    "    sin_terms = np.sin(j * theta_values)\n",
    "    alpha_j = np.trapz(delta_W_values * cos_terms, theta_values) / (2 * np.pi)\n",
    "    beta_j = np.trapz(delta_W_values * sin_terms, theta_values) / (2 * np.pi)\n",
    "    return alpha_j, beta_j\n",
    "\n",
    "def fourier_series(theta_values, J, delta_W_values):\n",
    "    fourier_reconstruction = np.zeros_like(theta_values)\n",
    "    contributions = np.zeros_like(theta_values) \n",
    "    amplitude, phase = None, None\n",
    "    for j in range(1, J+1):\n",
    "        alpha_j, beta_j = fourier_coefficients(j, theta_values, delta_W_values)\n",
    "        contribution = alpha_j * np.cos(j * theta_values) + beta_j * np.sin(j * theta_values)\n",
    "        fourier_reconstruction += contribution\n",
    "        if j == J:\n",
    "            contributions = contribution\n",
    "            amplitude = np.sqrt(alpha_j**2 + beta_j**2)\n",
    "            phase = np.arctan2(beta_j, alpha_j)\n",
    "    return fourier_reconstruction, contributions, amplitude, phase\n",
    "\n",
    "default_N = 64\n",
    "noise = generate_noise(default_N)\n",
    "\n",
    "def interactive_plot(J, A, B, C, N):\n",
    "    theta_values = np.linspace(-np.pi, np.pi, N)\n",
    "    global noise\n",
    "    if len(noise) != N:\n",
    "        noise = generate_noise(N)\n",
    "    \n",
    "    delta_W_values = delta_W(theta_values, A, B, C, noise)\n",
    "    reconstructed_signal, last_mode_contribution, amplitude, phase = fourier_series(theta_values, J, delta_W_values)\n",
    "\n",
    "    R_mean = np.sqrt(2 * np.pi / N * (A + C / 2)) # * sqrt(S / kappa)\n",
    "    print(f\"⟨R⟩ = {R_mean:.3f}\")\n",
    "    \n",
    "    fig, (ax1, ax2) = plt.subplots(1, 2, figsize=(20, 5))\n",
    "    \n",
    "    ax1.plot(theta_values, delta_W_values, label='Original $\\Delta W$', alpha=0.5)\n",
    "    ax1.plot(theta_values, reconstructed_signal, label=f'Fourier Series up to {J} modes', linestyle='--')\n",
    "    ax1.set_title(\"Fourier Series Approximation of $\\Delta W$\")\n",
    "    ax1.set_xlabel(\"$\\\\theta$\")\n",
    "    ax1.set_ylabel(\"$\\Delta W$\")\n",
    "    ax1.legend()\n",
    "    \n",
    "    ax2.plot(theta_values, last_mode_contribution, color='red',\n",
    "             label=f'Contribution of Mode {J}\\nAmplitude: {amplitude:.3f}\\nPhase: {phase:.3f} rad')\n",
    "    ax2.set_title(f\"Contribution of Mode {J}\")\n",
    "    ax2.set_xlabel(\"$\\\\theta$\")\n",
    "    ax2.set_ylabel(\"Contribution to $\\Delta W$\")\n",
    "    ax2.legend()\n",
    "\n",
    "interactive_plot = interactive(\n",
    "    interactive_plot,\n",
    "    J=IntSlider(min=1, max=128, step=1, value=1, description='J: Number of Modes'),\n",
    "    A=FloatSlider(min=0, max=9, step=1, value=1, description='A'),\n",
    "    B=FloatSlider(min=0, max=9, step=1, value=0, description='B'),\n",
    "    C=FloatSlider(min=0, max=9, step=1, value=0, description='C'),\n",
    "    N=IntSlider(min=16, max=128, step=16, value=default_N, description='N: Number of Points')\n",
    ")\n",
    "display(interactive_plot)"
   ]
  },
  {
   "cell_type": "code",
   "execution_count": 54,
   "id": "dff21528-16af-4dd8-a27b-21d0657d2bdd",
   "metadata": {},
   "outputs": [],
   "source": [
    "# coefficients_vs_B see VS code\n",
    "# coefficients_vs_C see VS code"
   ]
  },
  {
   "cell_type": "code",
   "execution_count": null,
   "id": "ea5ba56a-9c48-438a-ad47-baf42456de8c",
   "metadata": {},
   "outputs": [],
   "source": [
    "# plot theoretical amplitude vs numerical "
   ]
  }
 ],
 "metadata": {
  "kernelspec": {
   "display_name": "Python 3 (ipykernel)",
   "language": "python",
   "name": "python3"
  },
  "language_info": {
   "codemirror_mode": {
    "name": "ipython",
    "version": 3
   },
   "file_extension": ".py",
   "mimetype": "text/x-python",
   "name": "python",
   "nbconvert_exporter": "python",
   "pygments_lexer": "ipython3",
   "version": "3.11.6"
  }
 },
 "nbformat": 4,
 "nbformat_minor": 5
}
